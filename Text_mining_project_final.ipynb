{
  "nbformat": 4,
  "nbformat_minor": 0,
  "metadata": {
    "accelerator": "GPU",
    "colab": {
      "name": "Text_mining_project_final.ipynb",
      "provenance": [],
      "collapsed_sections": [],
      "toc_visible": true,
      "machine_shape": "hm",
      "include_colab_link": true
    },
    "kernelspec": {
      "display_name": "Python 3",
      "language": "python",
      "name": "python3"
    },
    "language_info": {
      "codemirror_mode": {
        "name": "ipython",
        "version": 3
      },
      "file_extension": ".py",
      "mimetype": "text/x-python",
      "name": "python",
      "nbconvert_exporter": "python",
      "pygments_lexer": "ipython3",
      "version": "3.7.5"
    }
  },
  "cells": [
    {
      "cell_type": "markdown",
      "metadata": {
        "id": "view-in-github",
        "colab_type": "text"
      },
      "source": [
        "<a href=\"https://colab.research.google.com/github/quartermaine/Text-Mining-Project/blob/master/Text_mining_project_final.ipynb\" target=\"_parent\"><img src=\"https://colab.research.google.com/assets/colab-badge.svg\" alt=\"Open In Colab\"/></a>"
      ]
    },
    {
      "cell_type": "markdown",
      "metadata": {
        "id": "8coBQG1XML3P",
        "colab_type": "text"
      },
      "source": [
        "This notebook provides the code and steps used to create the project for the Text Mining Course"
      ]
    },
    {
      "cell_type": "markdown",
      "metadata": {
        "colab_type": "text",
        "id": "0Hd9AixYio2w"
      },
      "source": [
        "## Download the data from kaggle"
      ]
    },
    {
      "cell_type": "markdown",
      "metadata": {
        "id": "B90wV4APMeQg",
        "colab_type": "text"
      },
      "source": [
        "In this section we are going to download the dataset (Amazon Reviews) we are going to use for the project with the Kaggle API and then extract the 2 files (train,test) to content dir."
      ]
    },
    {
      "cell_type": "code",
      "metadata": {
        "colab_type": "code",
        "id": "K07VnuScit-N",
        "outputId": "db73d716-748a-41fb-b620-73a2e89dd1fd",
        "colab": {
          "base_uri": "https://localhost:8080/",
          "height": 34
        }
      },
      "source": [
        "from __future__ import absolute_import, division, print_function, unicode_literals\n",
        "import warnings\n",
        "\n",
        "warnings.filterwarnings('ignore')\n",
        "\n",
        "try:\n",
        "  # %tensorflow_version only exists in Colab.\n",
        "  %tensorflow_version 2.x\n",
        "except Exception:\n",
        "    pass\n",
        "import tensorflow as tf\n",
        "\n",
        "print(tf.__version__)"
      ],
      "execution_count": 0,
      "outputs": [
        {
          "output_type": "stream",
          "text": [
            "2.0.0\n"
          ],
          "name": "stdout"
        }
      ]
    },
    {
      "cell_type": "code",
      "metadata": {
        "colab_type": "code",
        "id": "JE-bu_g4sf1a",
        "colab": {}
      },
      "source": [
        "# Run this cell and select the kaggle.json file downloaded\n",
        "# from the Kaggle account settings page.\n",
        "from google.colab import files\n",
        "files.upload()"
      ],
      "execution_count": 0,
      "outputs": []
    },
    {
      "cell_type": "code",
      "metadata": {
        "colab_type": "code",
        "id": "UMP3i9Xas1XK",
        "outputId": "e84adea9-b8b0-4e95-845d-ec15ca03dbdd",
        "colab": {
          "base_uri": "https://localhost:8080/",
          "height": 34
        }
      },
      "source": [
        "# Let's make sure the kaggle.json file is present.\n",
        "!ls -lha kaggle.json"
      ],
      "execution_count": 0,
      "outputs": [
        {
          "output_type": "stream",
          "text": [
            "-rw-r--r-- 1 root root 68 Dec 22 08:49 kaggle.json\n"
          ],
          "name": "stdout"
        }
      ]
    },
    {
      "cell_type": "code",
      "metadata": {
        "colab_type": "code",
        "id": "Ho4w9dIYs1gV",
        "colab": {}
      },
      "source": [
        "# Next, install the Kaggle API client.\n",
        "!pip install -q kaggle"
      ],
      "execution_count": 0,
      "outputs": []
    },
    {
      "cell_type": "code",
      "metadata": {
        "colab_type": "code",
        "id": "5xhOWJIIs1lx",
        "outputId": "49a4e3d1-37c6-4bc8-b35e-704fc6fec72c",
        "colab": {
          "base_uri": "https://localhost:8080/",
          "height": 34
        }
      },
      "source": [
        "import os\n",
        "print(os.listdir())\n"
      ],
      "execution_count": 0,
      "outputs": [
        {
          "output_type": "stream",
          "text": [
            "['.config', 'kaggle.json', 'sample_data']\n"
          ],
          "name": "stdout"
        }
      ]
    },
    {
      "cell_type": "code",
      "metadata": {
        "colab_type": "code",
        "id": "Ru9mJg6js1rF",
        "colab": {}
      },
      "source": [
        "# make kaggle directory\n",
        "!mkdir -p ~/.kaggle"
      ],
      "execution_count": 0,
      "outputs": []
    },
    {
      "cell_type": "code",
      "metadata": {
        "colab_type": "code",
        "id": "RXzuOarEs1vH",
        "outputId": "4a039552-4dac-4550-cfda-f411cd6921c3",
        "colab": {
          "base_uri": "https://localhost:8080/",
          "height": 34
        }
      },
      "source": [
        "# move kaggle.json to .kaggle directory\n",
        "!mv /content/kaggle.json ~/.kaggle\n",
        "\n",
        "!chmod 600 ~/.kaggle/kaggle.json\n",
        "# set the path to /content\n",
        "!kaggle config set -n path -v{/content}"
      ],
      "execution_count": 0,
      "outputs": [
        {
          "output_type": "stream",
          "text": [
            "- path is now set to: {/content}\n"
          ],
          "name": "stdout"
        }
      ]
    },
    {
      "cell_type": "code",
      "metadata": {
        "colab_type": "code",
        "id": "cbZCRCsNs1yp",
        "outputId": "fc0bc504-3657-4a20-819c-5eccc05ed145",
        "colab": {
          "base_uri": "https://localhost:8080/",
          "height": 69
        }
      },
      "source": [
        "# make data directory \n",
        "!mkdir -p data\n",
        "# Download dataset\n",
        "!kaggle datasets download -d bittlingmayer/amazonreviews -p data"
      ],
      "execution_count": 0,
      "outputs": [
        {
          "output_type": "stream",
          "text": [
            "Downloading amazonreviews.zip to data\n",
            " 98% 481M/493M [00:11<00:00, 24.2MB/s]\n",
            "100% 493M/493M [00:11<00:00, 43.4MB/s]\n"
          ],
          "name": "stdout"
        }
      ]
    },
    {
      "cell_type": "code",
      "metadata": {
        "colab_type": "code",
        "id": "Odz_S0nIt8_K",
        "outputId": "89eddf01-743a-4b18-fabe-961e5c847205",
        "colab": {
          "base_uri": "https://localhost:8080/",
          "height": 34
        }
      },
      "source": [
        "os.listdir()"
      ],
      "execution_count": 0,
      "outputs": [
        {
          "output_type": "execute_result",
          "data": {
            "text/plain": [
              "['.config', 'data', 'sample_data']"
            ]
          },
          "metadata": {
            "tags": []
          },
          "execution_count": 17
        }
      ]
    },
    {
      "cell_type": "code",
      "metadata": {
        "colab_type": "code",
        "id": "jLt20rkHs11k",
        "colab": {}
      },
      "source": [
        "import zipfile\n",
        "# extract the files\n",
        "local_zip = '/content/data/amazonreviews.zip'\n",
        "zip_ref = zipfile.ZipFile(local_zip, 'r')\n",
        "zip_ref.extractall('/content/data/amazonreviews')\n",
        "zip_ref.close()\n"
      ],
      "execution_count": 0,
      "outputs": []
    },
    {
      "cell_type": "code",
      "metadata": {
        "colab_type": "code",
        "id": "TykZsYtikaKX",
        "colab": {}
      },
      "source": [
        "!rm /content/data/amazonreviews.zip # remove the zip file"
      ],
      "execution_count": 0,
      "outputs": []
    },
    {
      "cell_type": "markdown",
      "metadata": {
        "colab_type": "text",
        "id": "9WALQFhqyk6M"
      },
      "source": [
        "## Reading the data and get sentences and labels\n",
        "\n"
      ]
    },
    {
      "cell_type": "markdown",
      "metadata": {
        "id": "oBIaUlenNEOr",
        "colab_type": "text"
      },
      "source": [
        "In this section we read the data from the files ,encode them to 'utf-8'\n",
        "and create lists for the sentences and the labels."
      ]
    },
    {
      "cell_type": "code",
      "metadata": {
        "colab_type": "code",
        "id": "z_wB-oAYyvc0",
        "colab": {}
      },
      "source": [
        "import bz2\n",
        "# train file\n",
        "bz_file = bz2.BZ2File('/content/data/amazonreviews/train.ft.txt.bz2')\n",
        "train_file = bz_file.readlines()\n",
        "# test file\n",
        "bz_file = bz2.BZ2File('/content/data/amazonreviews/test.ft.txt.bz2')\n",
        "test_file = bz_file.readlines()"
      ],
      "execution_count": 0,
      "outputs": []
    },
    {
      "cell_type": "code",
      "metadata": {
        "colab_type": "code",
        "id": "aIMNCz5MkgsB",
        "colab": {}
      },
      "source": [
        "train_file = [x.decode('utf-8') for x in train_file]\n",
        "test_file = [x.decode('utf-8') for x in test_file]\n"
      ],
      "execution_count": 0,
      "outputs": []
    },
    {
      "cell_type": "code",
      "metadata": {
        "colab_type": "code",
        "id": "8mgxhcaWG9L5",
        "outputId": "5d0d02ab-c8ff-44a6-a40c-6f141411b00d",
        "colab": {
          "base_uri": "https://localhost:8080/",
          "height": 211
        }
      },
      "source": [
        "train_file[0:10]"
      ],
      "execution_count": 0,
      "outputs": [
        {
          "output_type": "execute_result",
          "data": {
            "text/plain": [
              "['__label__2 Stuning even for the non-gamer: This sound track was beautiful! It paints the senery in your mind so well I would recomend it even to people who hate vid. game music! I have played the game Chrono Cross but out of all of the games I have ever played it has the best music! It backs away from crude keyboarding and takes a fresher step with grate guitars and soulful orchestras. It would impress anyone who cares to listen! ^_^\\n',\n",
              " \"__label__2 The best soundtrack ever to anything.: I'm reading a lot of reviews saying that this is the best 'game soundtrack' and I figured that I'd write a review to disagree a bit. This in my opinino is Yasunori Mitsuda's ultimate masterpiece. The music is timeless and I'm been listening to it for years now and its beauty simply refuses to fade.The price tag on this is pretty staggering I must say, but if you are going to buy any cd for this much money, this is the only one that I feel would be worth every penny.\\n\",\n",
              " '__label__2 Amazing!: This soundtrack is my favorite music of all time, hands down. The intense sadness of \"Prisoners of Fate\" (which means all the more if you\\'ve played the game) and the hope in \"A Distant Promise\" and \"Girl who Stole the Star\" have been an important inspiration to me personally throughout my teen years. The higher energy tracks like \"Chrono Cross ~ Time\\'s Scar~\", \"Time of the Dreamwatch\", and \"Chronomantique\" (indefinably remeniscent of Chrono Trigger) are all absolutely superb as well.This soundtrack is amazing music, probably the best of this composer\\'s work (I haven\\'t heard the Xenogears soundtrack, so I can\\'t say for sure), and even if you\\'ve never played the game, it would be worth twice the price to buy it.I wish I could give it 6 stars.\\n',\n",
              " \"__label__2 Excellent Soundtrack: I truly like this soundtrack and I enjoy video game music. I have played this game and most of the music on here I enjoy and it's truly relaxing and peaceful.On disk one. my favorites are Scars Of Time, Between Life and Death, Forest Of Illusion, Fortress of Ancient Dragons, Lost Fragment, and Drowned Valley.Disk Two: The Draggons, Galdorb - Home, Chronomantique, Prisoners of Fate, Gale, and my girlfriend likes ZelbessDisk Three: The best of the three. Garden Of God, Chronopolis, Fates, Jellyfish sea, Burning Orphange, Dragon's Prayer, Tower Of Stars, Dragon God, and Radical Dreamers - Unstealable Jewel.Overall, this is a excellent soundtrack and should be brought by those that like video game music.Xander Cross\\n\",\n",
              " \"__label__2 Remember, Pull Your Jaw Off The Floor After Hearing it: If you've played the game, you know how divine the music is! Every single song tells a story of the game, it's that good! The greatest songs are without a doubt, Chrono Cross: Time's Scar, Magical Dreamers: The Wind, The Stars, and the Sea and Radical Dreamers: Unstolen Jewel. (Translation varies) This music is perfect if you ask me, the best it can be. Yasunori Mitsuda just poured his heart on and wrote it down on paper.\\n\",\n",
              " \"__label__2 an absolute masterpiece: I am quite sure any of you actually taking the time to read this have played the game at least once, and heard at least a few of the tracks here. And whether you were aware of it or not, Mitsuda's music contributed greatly to the mood of every single minute of the whole game.Composed of 3 CDs and quite a few songs (I haven't an exact count), all of which are heart-rendering and impressively remarkable, this soundtrack is one I assure you you will not forget. It has everything for every listener -- from fast-paced and energetic (Dancing the Tokage or Termina Home), to slower and more haunting (Dragon God), to purely beautifully composed (Time's Scar), to even some fantastic vocals (Radical Dreamers).This is one of the best videogame soundtracks out there, and surely Mitsuda's best ever. ^_^\\n\",\n",
              " '__label__1 Buyer beware: This is a self-published book, and if you want to know why--read a few paragraphs! Those 5 star reviews must have been written by Ms. Haddon\\'s family and friends--or perhaps, by herself! I can\\'t imagine anyone reading the whole thing--I spent an evening with the book and a friend and we were in hysterics reading bits and pieces of it to one another. It is most definitely bad enough to be entered into some kind of a \"worst book\" contest. I can\\'t believe Amazon even sells this kind of thing. Maybe I can offer them my 8th grade term paper on \"To Kill a Mockingbird\"--a book I am quite sure Ms. Haddon never heard of. Anyway, unless you are in a mood to send a book to someone as a joke---stay far, far away from this one!\\n',\n",
              " '__label__2 Glorious story: I loved Whisper of the wicked saints. The story was amazing and I was pleasantly surprised at the changes in the book. I am not normaly someone who is into romance novels, but the world was raving about this book and so I bought it. I loved it !! This is a brilliant story because it is so true. This book was so wonderful that I have told all of my friends to read it. It is not a typical romance, it is so much more. Not reading this book is a crime, becuase you are missing out on a heart warming story.\\n',\n",
              " \"__label__2 A FIVE STAR BOOK: I just finished reading Whisper of the Wicked saints. I fell in love with the caracters. I expected an average romance read, but instead I found one of my favorite books of all time. Just when I thought I could predict the outcome I was shocked ! The writting was so descriptive that my heart broke when Julia's did and I felt as if I was there with them instead of just a distant reader. If you are a lover of romance novels then this is a must read. Don't let the cover fool you this book is spectacular!\\n\",\n",
              " '__label__2 Whispers of the Wicked Saints: This was a easy to read book that made me want to keep reading on and on, not easy to put down.It left me wanting to read the follow on, which I hope is coming soon. I used to read a lot but have gotten away from it. This book made me want to read again. Very enjoyable.\\n']"
            ]
          },
          "metadata": {
            "tags": []
          },
          "execution_count": 4
        }
      ]
    },
    {
      "cell_type": "code",
      "metadata": {
        "colab_type": "code",
        "id": "1TzOVVkcHcsi",
        "outputId": "a8c2f486-e770-4fb2-cf26-3d4f592f2325",
        "colab": {
          "base_uri": "https://localhost:8080/",
          "height": 211
        }
      },
      "source": [
        "test_file[0:10]"
      ],
      "execution_count": 0,
      "outputs": [
        {
          "output_type": "execute_result",
          "data": {
            "text/plain": [
              "['__label__2 Great CD: My lovely Pat has one of the GREAT voices of her generation. I have listened to this CD for YEARS and I still LOVE IT. When I\\'m in a good mood it makes me feel better. A bad mood just evaporates like sugar in the rain. This CD just oozes LIFE. Vocals are jusat STUUNNING and lyrics just kill. One of life\\'s hidden gems. This is a desert isle CD in my book. Why she never made it big is just beyond me. Everytime I play this, no matter black, white, young, old, male, female EVERYBODY says one thing \"Who was that singing ?\"\\n',\n",
              " \"__label__2 One of the best game music soundtracks - for a game I didn't really play: Despite the fact that I have only played a small portion of the game, the music I heard (plus the connection to Chrono Trigger which was great as well) led me to purchase the soundtrack, and it remains one of my favorite albums. There is an incredible mix of fun, epic, and emotional songs. Those sad and beautiful tracks I especially like, as there's not too many of those kinds of songs in my other video game soundtracks. I must admit that one of the songs (Life-A Distant Promise) has brought tears to my eyes on many occasions.My one complaint about this soundtrack is that they use guitar fretting effects in many of the songs, which I find distracting. But even if those weren't included I would still consider the collection worth it.\\n\",\n",
              " '__label__1 Batteries died within a year ...: I bought this charger in Jul 2003 and it worked OK for a while. The design is nice and convenient. However, after about a year, the batteries would not hold a charge. Might as well just get alkaline disposables, or look elsewhere for a charger that comes with batteries that have better staying power.\\n',\n",
              " \"__label__2 works fine, but Maha Energy is better: Check out Maha Energy's website. Their Powerex MH-C204F charger works in 100 minutes for rapid charge, with option for slower charge (better for batteries). And they have 2200 mAh batteries.\\n\",\n",
              " \"__label__2 Great for the non-audiophile: Reviewed quite a bit of the combo players and was hesitant due to unfavorable reviews and size of machines. I am weaning off my VHS collection, but don't want to replace them with DVD's. This unit is well built, easy to setup and resolution and special effects (no progressive scan for HDTV owners) suitable for many people looking for a versatile product.Cons- No universal remote.\\n\",\n",
              " \"__label__1 DVD Player crapped out after one year: I also began having the incorrect disc problems that I've read about on here. The VCR still works, but hte DVD side is useless. I understand that DVD players sometimes just quit on you, but after not even one year? To me that's a sign on bad quality. I'm giving up JVC after this as well. I'm sticking to Sony or giving another brand a shot.\\n\",\n",
              " \"__label__1 Incorrect Disc: I love the style of this, but after a couple years, the DVD is giving me problems. It doesn't even work anymore and I use my broken PS2 Now. I wouldn't recommend this, I'm just going to upgrade to a recorder now. I wish it would work but I guess i'm giving up on JVC. I really did like this one... before it stopped working. The dvd player gave me problems probably after a year of having it.\\n\",\n",
              " \"__label__1 DVD menu select problems: I cannot scroll through a DVD menu that is set up vertically. The triangle keys will only select horizontally. So I cannot select anything on most DVD's besides play. No special features, no language select, nothing, just play.\\n\",\n",
              " '__label__2 Unique Weird Orientalia from the 1930\\'s: Exotic tales of the Orient from the 1930\\'s. \"Dr Shen Fu\", a Weird Tales magazine reprint, is about the elixir of life that grants immortality at a price. If you\\'re tired of modern authors who all sound alike, this is the antidote for you. Owen\\'s palette is loaded with splashes of Chinese and Japanese colours. Marvelous.\\n',\n",
              " '__label__1 Not an \"ultimate guide\": Firstly,I enjoyed the format and tone of the book (how the author addressed the reader). However, I did not feel that she imparted any insider secrets that the book promised to reveal. If you are just starting to research law school, and do not know all the requirements of admission, then this book may be a tremendous help. If you have done your homework and are looking for an edge when it comes to admissions, I recommend some more topic-specific books. For example, books on how to write your personal statment, books geared specifically towards LSAT preparation (Powerscore books were the most helpful for me), and there are some websites with great advice geared towards aiding the individuals whom you are asking to write letters of recommendation. Yet, for those new to the entire affair, this book can definitely clarify the requirements for you.\\n']"
            ]
          },
          "metadata": {
            "tags": []
          },
          "execution_count": 5
        }
      ]
    },
    {
      "cell_type": "code",
      "metadata": {
        "colab_type": "code",
        "id": "yX7EV19k0I-8",
        "colab": {}
      },
      "source": [
        "train_labels = [0 if x.split(' ')[0] == '__label__1' else 1 for x in train_file]\n",
        "train_sentences = [x.split(' ', 1)[1][:-1].lower() for x in train_file]\n",
        "\n",
        "test_labels = [0 if x.split(' ')[0] == '__label__1' else 1 for x in test_file]\n",
        "test_sentences = [x.split(' ', 1)[1][:-1].lower() for x in test_file]\n"
      ],
      "execution_count": 0,
      "outputs": []
    },
    {
      "cell_type": "code",
      "metadata": {
        "colab_type": "code",
        "id": "ZUO0u1CNmKsd",
        "outputId": "9437c11c-211a-4960-963f-791c27cddc0f",
        "colab": {
          "base_uri": "https://localhost:8080/",
          "height": 52
        }
      },
      "source": [
        "print(\"Count class {0} \\nCount class {1}\".format(train_labels.count(0),train_labels.count(1)))\n",
        "# we have a balanced dataset"
      ],
      "execution_count": 0,
      "outputs": [
        {
          "output_type": "stream",
          "text": [
            "Count class 1800000 \n",
            "Count class 1800000\n"
          ],
          "name": "stdout"
        }
      ]
    },
    {
      "cell_type": "code",
      "metadata": {
        "colab_type": "code",
        "id": "TmlF6erQ07-D",
        "outputId": "5f6f79d9-a1d1-45fb-e071-91132fbf2f9e",
        "colab": {
          "base_uri": "https://localhost:8080/",
          "height": 500
        }
      },
      "source": [
        "import pandas as pd\n",
        "import matplotlib.pyplot as plt\n",
        "\n",
        "\n",
        "plt.figure(figsize=(12,8))\n",
        "plt.style.use('ggplot')\n",
        "train_series = pd.Series(train_labels)\n",
        "train_series.value_counts().plot(kind='bar',figsize=(12, 8), rot=0,color=['r','b']);\n",
        "plt.title('Bar Plot Labels')\n",
        "plt.show()"
      ],
      "execution_count": 0,
      "outputs": [
        {
          "output_type": "display_data",
          "data": {
            "image/png": "[encoded data removed]",
            "text/plain": [
              "<Figure size 864x576 with 1 Axes>"
            ]
          },
          "metadata": {
            "tags": []
          }
        }
      ]
    },
    {
      "cell_type": "markdown",
      "metadata": {
        "id": "rldoldX-NZUE",
        "colab_type": "text"
      },
      "source": [
        "From the plot above we can see that we have a balanced dataset rearding the classes of the train data."
      ]
    },
    {
      "cell_type": "markdown",
      "metadata": {
        "colab_type": "text",
        "id": "lmhntb4pyxyN"
      },
      "source": [
        "## Function to plot frequencies\n"
      ]
    },
    {
      "cell_type": "markdown",
      "metadata": {
        "id": "Ahu4Fuq5Nrhv",
        "colab_type": "text"
      },
      "source": [
        "This is a function to plot the frequencies of the most common words"
      ]
    },
    {
      "cell_type": "code",
      "metadata": {
        "colab_type": "code",
        "id": "12WHDtAD_ImS",
        "colab": {}
      },
      "source": [
        "import numpy as np\n",
        "import matplotlib.pyplot as plt\n",
        "from sklearn.feature_extraction.text import CountVectorizer\n",
        "\n",
        "def get_num_words_per_sample(sample_texts):\n",
        "    \"\"\"Returns the median number of words per sample given corpus.\n",
        "\n",
        "    # Arguments\n",
        "        sample_texts: list, sample texts.\n",
        "\n",
        "    # Returns\n",
        "        int, median number of words per sample.\n",
        "    \"\"\"\n",
        "    num_words = [len(s.split()) for s in sample_texts]\n",
        "    return np.median(num_words)\n",
        "\n",
        "def plot_frequency_distribution_of_ngrams(sample_texts,\n",
        "                                          ngram_range=(1, 2),\n",
        "                                          num_ngrams=50):\n",
        "    \"\"\"Plots the frequency distribution of n-grams.\n",
        "    # Arguments\n",
        "        samples_texts: list, sample texts.\n",
        "        ngram_range: tuple (min, mplt), The range of n-gram values to consider.\n",
        "            Min and mplt are the lower and upper bound values for the range.\n",
        "        num_ngrams: int, number of n-grams to plot.\n",
        "            Top `num_ngrams` frequent n-grams will be plotted.\n",
        "    \"\"\"\n",
        "    # Create args required for vectorizing.\n",
        "    kwargs = {\n",
        "            'ngram_range': (1, 1),\n",
        "            'dtype': 'int32',\n",
        "            'strip_accents': 'unicode',\n",
        "            'decode_error': 'replace',\n",
        "            'analyzer': 'word',  # Split text into word tokens.\n",
        "    }\n",
        "    vectorizer = CountVectorizer(**kwargs)\n",
        "\n",
        "    # This creates a vocabulary (dict, where keys are n-grams and values are\n",
        "    # idxices). This also converts every text to an array the length of\n",
        "    # vocabulary, where every element idxicates the count of the n-gram\n",
        "    # corresponding at that idxex in vocabulary.\n",
        "    vectorized_texts = vectorizer.fit_transform(sample_texts)\n",
        "\n",
        "    # This is the list of all n-grams in the index order from the vocabulary.\n",
        "    all_ngrams = list(vectorizer.get_feature_names())\n",
        "    num_ngrams = min(num_ngrams, len(all_ngrams))\n",
        "    # ngrams = all_ngrams[:num_ngrams]\n",
        "\n",
        "    # Add up the counts per n-gram ie. column-wise\n",
        "    all_counts = vectorized_texts.sum(axis=0).tolist()[0]\n",
        "\n",
        "    # Sort n-grams and counts by frequency and get top `num_ngrams` ngrams.\n",
        "    all_counts, all_ngrams = zip(*[(c, n) for c, n in sorted(\n",
        "        zip(all_counts, all_ngrams), reverse=True)])\n",
        "    ngrams = list(all_ngrams)[:num_ngrams]\n",
        "    counts = list(all_counts)[:num_ngrams]>>> from sklearn.datasets import load_iris\n",
        "    idx = np.arange(num_ngrams)\n",
        "    plt.figure(figsize=(15,12))\n",
        "    plt.style.use('ggplot')\n",
        "    plt.bar(idx, counts, width=0.8, color='b')\n",
        "    plt.xlabel('N-grams')\n",
        "    plt.ylabel('Frequencies')\n",
        "    plt.title('Frequency distribution of n-grams')\n",
        "    plt.xticks(idx, ngrams, rotation=45)\n",
        "    plt.show()\n",
        "\n"
      ],
      "execution_count": 0,
      "outputs": []
    },
    {
      "cell_type": "code",
      "metadata": {
        "colab_type": "code",
        "id": "0WRwmRVN_KbN",
        "outputId": "f1126e94-a28f-46ea-997b-668519bc72b2",
        "colab": {
          "base_uri": "https://localhost:8080/",
          "height": 34
        }
      },
      "source": [
        "get_num_words_per_sample(train_sentences)"
      ],
      "execution_count": 0,
      "outputs": [
        {
          "output_type": "execute_result",
          "data": {
            "text/plain": [
              "70.0"
            ]
          },
          "metadata": {
            "tags": []
          },
          "execution_count": 20
        }
      ]
    },
    {
      "cell_type": "code",
      "metadata": {
        "colab_type": "code",
        "id": "8CyrdXW5AhgF",
        "outputId": "1a887a84-2e7b-48db-b6b3-d47093a56961",
        "colab": {
          "base_uri": "https://localhost:8080/",
          "height": 752
        }
      },
      "source": [
        "plot_frequency_distribution_of_ngrams(train_sentences)"
      ],
      "execution_count": 0,
      "outputs": [
        {
          "output_type": "display_data",
          "data": {
            "image/png": "[encoded data removed]",
            "text/plain": [
              "<Figure size 1080x864 with 1 Axes>"
            ]
          },
          "metadata": {
            "tags": []
          }
        }
      ]
    },
    {
      "cell_type": "code",
      "metadata": {
        "colab_type": "code",
        "id": "e1GZNxvfmncb",
        "outputId": "e76ebb28-3ab0-441a-8050-9e360978705f",
        "colab": {
          "base_uri": "https://localhost:8080/",
          "height": 485
        }
      },
      "source": [
        "import pandas as pd\n",
        "train_df = pd.DataFrame({'reviews': train_sentences, 'labels': train_labels})\n",
        "print('columns :\\n',train_df.columns)\n",
        "print('\\ncolumn types:\\n',train_df.dtypes)\n",
        "train_df.head(n=10)"
      ],
      "execution_count": 0,
      "outputs": [
        {
          "output_type": "stream",
          "text": [
            "columns :\n",
            " Index(['reviews', 'labels'], dtype='object')\n",
            "\n",
            "column types:\n",
            " reviews    object\n",
            "labels      int64\n",
            "dtype: object\n"
          ],
          "name": "stdout"
        },
        {
          "output_type": "execute_result",
          "data": {
            "text/html": [
              "<div>\n",
              "<style scoped>\n",
              "    .dataframe tbody tr th:only-of-type {\n",
              "        vertical-align: middle;\n",
              "    }\n",
              "\n",
              "    .dataframe tbody tr th {\n",
              "        vertical-align: top;\n",
              "    }\n",
              "\n",
              "    .dataframe thead th {\n",
              "        text-align: right;\n",
              "    }\n",
              "</style>\n",
              "<table border=\"1\" class=\"dataframe\">\n",
              "  <thead>\n",
              "    <tr style=\"text-align: right;\">\n",
              "      <th></th>\n",
              "      <th>reviews</th>\n",
              "      <th>labels</th>\n",
              "    </tr>\n",
              "  </thead>\n",
              "  <tbody>\n",
              "    <tr>\n",
              "      <th>0</th>\n",
              "      <td>stuning even for the non-gamer: this sound tra...</td>\n",
              "      <td>1</td>\n",
              "    </tr>\n",
              "    <tr>\n",
              "      <th>1</th>\n",
              "      <td>the best soundtrack ever to anything.: i'm rea...</td>\n",
              "      <td>1</td>\n",
              "    </tr>\n",
              "    <tr>\n",
              "      <th>2</th>\n",
              "      <td>amazing!: this soundtrack is my favorite music...</td>\n",
              "      <td>1</td>\n",
              "    </tr>\n",
              "    <tr>\n",
              "      <th>3</th>\n",
              "      <td>excellent soundtrack: i truly like this soundt...</td>\n",
              "      <td>1</td>\n",
              "    </tr>\n",
              "    <tr>\n",
              "      <th>4</th>\n",
              "      <td>remember, pull your jaw off the floor after he...</td>\n",
              "      <td>1</td>\n",
              "    </tr>\n",
              "    <tr>\n",
              "      <th>5</th>\n",
              "      <td>an absolute masterpiece: i am quite sure any o...</td>\n",
              "      <td>1</td>\n",
              "    </tr>\n",
              "    <tr>\n",
              "      <th>6</th>\n",
              "      <td>buyer beware: this is a self-published book, a...</td>\n",
              "      <td>0</td>\n",
              "    </tr>\n",
              "    <tr>\n",
              "      <th>7</th>\n",
              "      <td>glorious story: i loved whisper of the wicked ...</td>\n",
              "      <td>1</td>\n",
              "    </tr>\n",
              "    <tr>\n",
              "      <th>8</th>\n",
              "      <td>a five star book: i just finished reading whis...</td>\n",
              "      <td>1</td>\n",
              "    </tr>\n",
              "    <tr>\n",
              "      <th>9</th>\n",
              "      <td>whispers of the wicked saints: this was a easy...</td>\n",
              "      <td>1</td>\n",
              "    </tr>\n",
              "  </tbody>\n",
              "</table>\n",
              "</div>"
            ],
            "text/plain": [
              "                                             reviews  labels\n",
              "0  stuning even for the non-gamer: this sound tra...       1\n",
              "1  the best soundtrack ever to anything.: i'm rea...       1\n",
              "2  amazing!: this soundtrack is my favorite music...       1\n",
              "3  excellent soundtrack: i truly like this soundt...       1\n",
              "4  remember, pull your jaw off the floor after he...       1\n",
              "5  an absolute masterpiece: i am quite sure any o...       1\n",
              "6  buyer beware: this is a self-published book, a...       0\n",
              "7  glorious story: i loved whisper of the wicked ...       1\n",
              "8  a five star book: i just finished reading whis...       1\n",
              "9  whispers of the wicked saints: this was a easy...       1"
            ]
          },
          "metadata": {
            "tags": []
          },
          "execution_count": 26
        }
      ]
    },
    {
      "cell_type": "code",
      "metadata": {
        "colab_type": "code",
        "id": "FWrAsNGf4t3F",
        "colab": {}
      },
      "source": [
        ""
      ],
      "execution_count": 0,
      "outputs": []
    },
    {
      "cell_type": "code",
      "metadata": {
        "colab_type": "code",
        "id": "86Pblwexm584",
        "outputId": "756e04ea-b2dd-41c0-fe36-ccb7101e5618",
        "colab": {
          "base_uri": "https://localhost:8080/",
          "height": 485
        }
      },
      "source": [
        "test_df = pd.DataFrame({'reviews': test_sentences, 'labels': test_labels})\n",
        "print('columns :\\n',test_df.columns)\n",
        "print('\\ncolumn types:\\n',test_df.dtypes)\n",
        "test_df.head(n=10)"
      ],
      "execution_count": 0,
      "outputs": [
        {
          "output_type": "stream",
          "text": [
            "columns :\n",
            " Index(['reviews', 'labels'], dtype='object')\n",
            "\n",
            "column types:\n",
            " reviews    object\n",
            "labels      int64\n",
            "dtype: object\n"
          ],
          "name": "stdout"
        },
        {
          "output_type": "execute_result",
          "data": {
            "text/html": [
              "<div>\n",
              "<style scoped>\n",
              "    .dataframe tbody tr th:only-of-type {\n",
              "        vertical-align: middle;\n",
              "    }\n",
              "\n",
              "    .dataframe tbody tr th {\n",
              "        vertical-align: top;\n",
              "    }\n",
              "\n",
              "    .dataframe thead th {\n",
              "        text-align: right;\n",
              "    }\n",
              "</style>\n",
              "<table border=\"1\" class=\"dataframe\">\n",
              "  <thead>\n",
              "    <tr style=\"text-align: right;\">\n",
              "      <th></th>\n",
              "      <th>reviews</th>\n",
              "      <th>labels</th>\n",
              "    </tr>\n",
              "  </thead>\n",
              "  <tbody>\n",
              "    <tr>\n",
              "      <th>0</th>\n",
              "      <td>great cd: my lovely pat has one of the great v...</td>\n",
              "      <td>1</td>\n",
              "    </tr>\n",
              "    <tr>\n",
              "      <th>1</th>\n",
              "      <td>one of the best game music soundtracks - for a...</td>\n",
              "      <td>1</td>\n",
              "    </tr>\n",
              "    <tr>\n",
              "      <th>2</th>\n",
              "      <td>batteries died within a year ...: i bought thi...</td>\n",
              "      <td>0</td>\n",
              "    </tr>\n",
              "    <tr>\n",
              "      <th>3</th>\n",
              "      <td>works fine, but maha energy is better: check o...</td>\n",
              "      <td>1</td>\n",
              "    </tr>\n",
              "    <tr>\n",
              "      <th>4</th>\n",
              "      <td>great for the non-audiophile: reviewed quite a...</td>\n",
              "      <td>1</td>\n",
              "    </tr>\n",
              "    <tr>\n",
              "      <th>5</th>\n",
              "      <td>dvd player crapped out after one year: i also ...</td>\n",
              "      <td>0</td>\n",
              "    </tr>\n",
              "    <tr>\n",
              "      <th>6</th>\n",
              "      <td>incorrect disc: i love the style of this, but ...</td>\n",
              "      <td>0</td>\n",
              "    </tr>\n",
              "    <tr>\n",
              "      <th>7</th>\n",
              "      <td>dvd menu select problems: i cannot scroll thro...</td>\n",
              "      <td>0</td>\n",
              "    </tr>\n",
              "    <tr>\n",
              "      <th>8</th>\n",
              "      <td>unique weird orientalia from the 1930's: exoti...</td>\n",
              "      <td>1</td>\n",
              "    </tr>\n",
              "    <tr>\n",
              "      <th>9</th>\n",
              "      <td>not an \"ultimate guide\": firstly,i enjoyed the...</td>\n",
              "      <td>0</td>\n",
              "    </tr>\n",
              "  </tbody>\n",
              "</table>\n",
              "</div>"
            ],
            "text/plain": [
              "                                             reviews  labels\n",
              "0  great cd: my lovely pat has one of the great v...       1\n",
              "1  one of the best game music soundtracks - for a...       1\n",
              "2  batteries died within a year ...: i bought thi...       0\n",
              "3  works fine, but maha energy is better: check o...       1\n",
              "4  great for the non-audiophile: reviewed quite a...       1\n",
              "5  dvd player crapped out after one year: i also ...       0\n",
              "6  incorrect disc: i love the style of this, but ...       0\n",
              "7  dvd menu select problems: i cannot scroll thro...       0\n",
              "8  unique weird orientalia from the 1930's: exoti...       1\n",
              "9  not an \"ultimate guide\": firstly,i enjoyed the...       0"
            ]
          },
          "metadata": {
            "tags": []
          },
          "execution_count": 27
        }
      ]
    },
    {
      "cell_type": "code",
      "metadata": {
        "colab_type": "code",
        "id": "p5K0_tW2_ony",
        "colab": {}
      },
      "source": [
        "# encoder = tfds.features.text.SubwordTextEncoder.build_from_corpus(\n",
        "#     train_df['reviews'][:2], target_vocab_size=2**15)\n",
        "\n",
        "# encoder.subwords\n",
        "# train_target = train_df.pop('labels')\n",
        "# train_dataset = tf.data.Dataset.from_tensor_slices((train_df.values, train_target.values))\n",
        "# for feat, targ in train_dataset.take(5):\n",
        "#   print ('Features: {}, Target: {}'.format(feat, targ))\n",
        "\n",
        "# df_train = train_dataset.shuffle(len(train_df)).batch(1)\n",
        "# df_train"
      ],
      "execution_count": 0,
      "outputs": []
    },
    {
      "cell_type": "markdown",
      "metadata": {
        "colab_type": "text",
        "id": "RkhN_YSkzOeZ"
      },
      "source": [
        "## Function to create padded sequences \n",
        "## Function to plot train/validation accuracy/loss\n",
        "## Split train data to train and validation\n"
      ]
    },
    {
      "cell_type": "markdown",
      "metadata": {
        "id": "aFrPh0cuOKmR",
        "colab_type": "text"
      },
      "source": [
        "This is a function for preprocessing in order to create padded \n",
        "sequences"
      ]
    },
    {
      "cell_type": "code",
      "metadata": {
        "colab_type": "code",
        "id": "uZf_8vZXJCqI",
        "colab": {}
      },
      "source": [
        "from tensorflow.python.keras.preprocessing import sequence\n",
        "from tensorflow.python.keras.preprocessing import text\n",
        "\n",
        "# Vectorization parameters\n",
        "# Limit on the number of features. We use the top 20K features.\n",
        "TOP_K = 10000\n",
        "\n",
        "# Limit on the length of text sequences. Sequences longer than this\n",
        "# will be truncated.\n",
        "MAX_SEQUENCE_LENGTH = 120\n",
        "\n",
        "def sequence_vectorize(train_texts, val_texts):\n",
        "    \"\"\"Vectorizes texts as sequence vectors.\n",
        "\n",
        "    1 text = 1 sequence vector with fixed length.\n",
        "\n",
        "    # Arguments\n",
        "        train_texts: list, training text strings.\n",
        "        val_texts: list, validation text strings.\n",
        "\n",
        "    # Returns\n",
        "        x_train, x_val, word_index: vectorized training and validation\n",
        "            texts and word index dictionary.\n",
        "    \"\"\"\n",
        "    # Create vocabulary with training texts.\n",
        "    tokenizer = text.Tokenizer(num_words=TOP_K)\n",
        "    tokenizer.fit_on_texts(train_texts)\n",
        "\n",
        "    # Vectorize training and validation texts.\n",
        "    x_train = tokenizer.texts_to_sequences(train_texts)\n",
        "    x_val = tokenizer.texts_to_sequences(val_texts)\n",
        "\n",
        "    # Get max sequence length.\n",
        "    max_length = len(max(x_train, key=len))\n",
        "    if max_length > MAX_SEQUENCE_LENGTH:\n",
        "        max_length = MAX_SEQUENCE_LENGTH\n",
        "\n",
        "    # Fix sequence length to max value. Sequences shorter than the length are\n",
        "    # padded in the beginning and sequences longer are truncated\n",
        "    # at the beginning.\n",
        "    x_train = sequence.pad_sequences(x_train, maxlen=max_length)\n",
        "    x_val = sequence.pad_sequences(x_val, maxlen=max_length)\n",
        "    return x_train, x_val, tokenizer.word_index"
      ],
      "execution_count": 0,
      "outputs": []
    },
    {
      "cell_type": "code",
      "metadata": {
        "colab_type": "code",
        "id": "48WuQBpqJSqD",
        "colab": {}
      },
      "source": [
        "x_train,x_test,indx = sequence_vectorize(train_sentences,test_sentences)"
      ],
      "execution_count": 0,
      "outputs": []
    },
    {
      "cell_type": "code",
      "metadata": {
        "colab_type": "code",
        "id": "cXgz85nGETId",
        "colab": {}
      },
      "source": [
        "import numpy as np\n",
        "training_labels_final = np.array(train_labels)\n",
        "y_test = np.array(test_labels)"
      ],
      "execution_count": 0,
      "outputs": []
    },
    {
      "cell_type": "code",
      "metadata": {
        "colab_type": "code",
        "id": "Tmj6eiHqJvtg",
        "outputId": "602854dd-d30f-4513-9b1a-b1fa9724edb8",
        "colab": {
          "base_uri": "https://localhost:8080/",
          "height": 34
        }
      },
      "source": [
        "x_train.shape"
      ],
      "execution_count": 0,
      "outputs": [
        {
          "output_type": "execute_result",
          "data": {
            "text/plain": [
              "(3600000, 120)"
            ]
          },
          "metadata": {
            "tags": []
          },
          "execution_count": 12
        }
      ]
    },
    {
      "cell_type": "code",
      "metadata": {
        "colab_type": "code",
        "id": "c-FDkRGXQKO7",
        "outputId": "fa11fed8-c943-419d-94e3-0a6e1793dabb",
        "colab": {
          "base_uri": "https://localhost:8080/",
          "height": 34
        }
      },
      "source": [
        "x_test.shape"
      ],
      "execution_count": 0,
      "outputs": [
        {
          "output_type": "execute_result",
          "data": {
            "text/plain": [
              "(400000, 120)"
            ]
          },
          "metadata": {
            "tags": []
          },
          "execution_count": 13
        }
      ]
    },
    {
      "cell_type": "code",
      "metadata": {
        "colab_type": "code",
        "id": "T5RKKIANSYuB",
        "outputId": "823ef530-25d7-4d5c-ffe1-feadf91da07f",
        "colab": {
          "base_uri": "https://localhost:8080/",
          "height": 34
        }
      },
      "source": [
        "training_labels_final.shape"
      ],
      "execution_count": 0,
      "outputs": [
        {
          "output_type": "execute_result",
          "data": {
            "text/plain": [
              "(3600000,)"
            ]
          },
          "metadata": {
            "tags": []
          },
          "execution_count": 14
        }
      ]
    },
    {
      "cell_type": "code",
      "metadata": {
        "colab_type": "code",
        "id": "vvs_gn7HxG2y",
        "outputId": "4e32deb7-1d66-4ebf-c22e-84467badc180",
        "colab": {
          "base_uri": "https://localhost:8080/",
          "height": 34
        }
      },
      "source": [
        "y_test.shape"
      ],
      "execution_count": 0,
      "outputs": [
        {
          "output_type": "execute_result",
          "data": {
            "text/plain": [
              "(400000,)"
            ]
          },
          "metadata": {
            "tags": []
          },
          "execution_count": 15
        }
      ]
    },
    {
      "cell_type": "code",
      "metadata": {
        "colab_type": "code",
        "id": "dNvqSFxQCatd",
        "colab": {}
      },
      "source": [
        "import matplotlib.pyplot as plt\n",
        "\n",
        "def plot_graphs(history, string):\n",
        "    plt.figure(figsize=(12,8))\n",
        "    plt.style.use('ggplot')\n",
        "    plt.plot(history.history[string])\n",
        "    plt.plot(history.history['val_'+string], '')\n",
        "    plt.title('Train and Validation '+string)\n",
        "    plt.xlabel(\"Epochs\")\n",
        "    plt.ylabel(string)\n",
        "    plt.legend([string, 'val_'+string])\n",
        "    plt.show()\n",
        "\n"
      ],
      "execution_count": 0,
      "outputs": []
    },
    {
      "cell_type": "code",
      "metadata": {
        "colab_type": "code",
        "id": "A8sIbQyWl-Iu",
        "outputId": "dc5a8ec9-c265-4b5b-8b90-21eaa479fd5e",
        "colab": {
          "base_uri": "https://localhost:8080/",
          "height": 86
        }
      },
      "source": [
        "from sklearn.model_selection import train_test_split\n",
        "\n",
        "X_train, X_val, y_train, y_val = train_test_split(x_train, training_labels_final, test_size=0.20)\n",
        "print(X_train.shape)\n",
        "print(y_train.shape)\n",
        "print(X_val.shape)\n",
        "print(y_val.shape)\n"
      ],
      "execution_count": 0,
      "outputs": [
        {
          "output_type": "stream",
          "text": [
            "(2880000, 120)\n",
            "(2880000,)\n",
            "(720000, 120)\n",
            "(720000,)\n"
          ],
          "name": "stdout"
        }
      ]
    },
    {
      "cell_type": "markdown",
      "metadata": {
        "colab_type": "text",
        "id": "ng_LplyUxWpT"
      },
      "source": [
        "## Training Different Models\n"
      ]
    },
    {
      "cell_type": "markdown",
      "metadata": {
        "id": "b8oo2IBgOwPH",
        "colab_type": "text"
      },
      "source": [
        "In this section we are training four models\n",
        "Naive Bayes,\n",
        "XgBoost,\n",
        "Small Sequential,\n",
        "LSTM\n"
      ]
    },
    {
      "cell_type": "markdown",
      "metadata": {
        "colab_type": "text",
        "id": "1T2oQSN1yWQt"
      },
      "source": [
        "### Naive Bayes Model"
      ]
    },
    {
      "cell_type": "code",
      "metadata": {
        "colab_type": "code",
        "id": "TMa6bBxczI7o",
        "outputId": "023c1d49-2318-4e80-e4d3-ccf2fd98c2c5",
        "colab": {
          "base_uri": "https://localhost:8080/",
          "height": 86
        }
      },
      "source": [
        "from sklearn.naive_bayes import GaussianNB\n",
        "from sklearn import  metrics\n",
        "import time\n",
        "\n",
        "gnb = GaussianNB()\n",
        "\n",
        "start_time= time.time()\n",
        "model_naive = gnb.fit(X_train, y_train)\n",
        "y_pred_naive = model_naive.predict(x_test)\n",
        "\n",
        "end_time = time.time()-start_time\n",
        "measured_time = time.strftime(\"%H:%M:%S\", time.gmtime(end_time))\n",
        "\n",
        "print('\\nTime to execute fit :' ,measured_time)\n",
        "\n",
        "count_misclassified_naive = (y_test != y_pred_naive).sum()\n",
        "\n",
        "accuracy_naive = metrics.accuracy_score(y_test, y_pred_naive)\n",
        "\n",
        "print(\"Number of mislabeled points out of a total %d points : %d\" % (x_test.shape[0], count_misclassified_naive))\n",
        "\n",
        "print('Accuracy on test data : {:.2f}'.format(accuracy_naive))\n"
      ],
      "execution_count": 0,
      "outputs": [
        {
          "output_type": "stream",
          "text": [
            "\n",
            "Time to execute fit : 00:00:05\n",
            "Number of mislabeled points out of a total 400000 points : 192841\n",
            "Accuracy on test data : 0.52\n"
          ],
          "name": "stdout"
        }
      ]
    },
    {
      "cell_type": "markdown",
      "metadata": {
        "colab_type": "text",
        "id": "cjfgaTcExmlY"
      },
      "source": [
        "### Xgboost Model\n",
        "\n",
        "\n"
      ]
    },
    {
      "cell_type": "code",
      "metadata": {
        "colab_type": "code",
        "id": "B5F3LhFa2tBw",
        "outputId": "d96f4ed2-67e7-407c-b61e-95efcf9a8a17",
        "colab": {
          "base_uri": "https://localhost:8080/",
          "height": 52
        }
      },
      "source": [
        "from xgboost.sklearn import XGBClassifier\n",
        "\n",
        "params = {\n",
        "\n",
        "'objective': 'binary:logistic',\n",
        "\n",
        "'max_depth': 3,\n",
        "\n",
        "'learning_rate': 1.0,\n",
        "\n",
        "'silent': 1,\n",
        "\n",
        "'n_estimators': 80\n",
        "\n",
        "}\n",
        "\n",
        "start_time= time.time()\n",
        "\n",
        "model_xbg = XGBClassifier(**params).fit(X_train, y_train)\n",
        "y_pred_xgb = model_xbg.predict(x_test)\n",
        "\n",
        "end_time = time.time()-start_time\n",
        "measured_time = time.strftime(\"%H:%M:%S\", time.gmtime(end_time))\n",
        "\n",
        "print('\\nTime to execute fit :' ,measured_time)\n",
        "\n"
      ],
      "execution_count": 0,
      "outputs": [
        {
          "output_type": "stream",
          "text": [
            "\n",
            "Time to execute fit : 00:21:25\n"
          ],
          "name": "stdout"
        }
      ]
    },
    {
      "cell_type": "code",
      "metadata": {
        "colab_type": "code",
        "id": "45J57a-g21kt",
        "outputId": "d98d6d92-203c-4325-de82-09d77ce20a9d",
        "colab": {
          "base_uri": "https://localhost:8080/",
          "height": 52
        }
      },
      "source": [
        "# how did our model perform?\n",
        "\n",
        "count_misclassified_xgb = (y_test != y_pred_xgb).sum()\n",
        "\n",
        "print(\"Number of mislabeled points out of a total %d points : %d\" % (x_test.shape[0], count_misclassified_xgb))\n",
        "\n",
        "accuracy_xgb = metrics.accuracy_score(y_test, y_pred_xgb)\n",
        "\n",
        "print('Accuracy on test data : {:.2f}'.format(accuracy_xgb))"
      ],
      "execution_count": 0,
      "outputs": [
        {
          "output_type": "stream",
          "text": [
            "Number of mislabeled points out of a total 400000 points : 136190\n",
            "Accuracy: 0.66\n"
          ],
          "name": "stdout"
        }
      ]
    },
    {
      "cell_type": "markdown",
      "metadata": {
        "colab_type": "text",
        "id": "8HFzGCwzxyGP"
      },
      "source": [
        "### Small Sequential Model\n"
      ]
    },
    {
      "cell_type": "code",
      "metadata": {
        "colab_type": "code",
        "id": "YcoKsm28NBqY",
        "outputId": "44675695-3fb9-4dde-d0fd-ed05c9ba87f7",
        "colab": {
          "base_uri": "https://localhost:8080/",
          "height": 330
        }
      },
      "source": [
        "vocab_size = 10000\n",
        "embedding_dim = 16\n",
        "\n",
        "model = tf.keras.Sequential([\n",
        "    tf.keras.layers.Embedding(vocab_size, embedding_dim, input_length=120),\n",
        "    tf.keras.layers.Flatten(),\n",
        "     tf.keras.layers.Dropout(0.5),\n",
        "    tf.keras.layers.Dense(6, activation='relu'),\n",
        "    tf.keras.layers.Dense(1, activation='sigmoid')\n",
        "])\n",
        "model.compile(loss='binary_crossentropy',optimizer='adam',metrics=['accuracy'])\n",
        "model.summary()\n",
        "\n"
      ],
      "execution_count": 0,
      "outputs": [
        {
          "output_type": "stream",
          "text": [
            "Model: \"sequential\"\n",
            "_________________________________________________________________\n",
            "Layer (type)                 Output Shape              Param #   \n",
            "=================================================================\n",
            "embedding (Embedding)        (None, 120, 16)           160000    \n",
            "_________________________________________________________________\n",
            "flatten (Flatten)            (None, 1920)              0         \n",
            "_________________________________________________________________\n",
            "dropout (Dropout)            (None, 1920)              0         \n",
            "_________________________________________________________________\n",
            "dense (Dense)                (None, 6)                 11526     \n",
            "_________________________________________________________________\n",
            "dense_1 (Dense)              (None, 1)                 7         \n",
            "=================================================================\n",
            "Total params: 171,533\n",
            "Trainable params: 171,533\n",
            "Non-trainable params: 0\n",
            "_________________________________________________________________\n"
          ],
          "name": "stdout"
        }
      ]
    },
    {
      "cell_type": "code",
      "metadata": {
        "colab_type": "code",
        "id": "lLj-iUNJSryS",
        "outputId": "ae7d0da0-565c-4e8a-c51b-96f6b7a517bd",
        "colab": {
          "base_uri": "https://localhost:8080/",
          "height": 34
        }
      },
      "source": [
        "from keras.callbacks import EarlyStopping, ModelCheckpoint\n",
        "\n",
        "num_epochs = 10\n",
        "\n",
        "early_stopping = EarlyStopping(monitor=\"val_loss\", mode=\"min\", patience=5)\n",
        "callbacks = [early_stopping]"
      ],
      "execution_count": 0,
      "outputs": [
        {
          "output_type": "stream",
          "text": [
            "Using TensorFlow backend.\n"
          ],
          "name": "stderr"
        }
      ]
    },
    {
      "cell_type": "code",
      "metadata": {
        "colab_type": "code",
        "id": "kStsHi6_64TD",
        "colab": {}
      },
      "source": [
        "# def _data_generator(x, y, num_features, batch_size):\n",
        "#     \"\"\"Generates batches of vectorized texts for training/validation.\n",
        "\n",
        "#     # Arguments\n",
        "#         x: np.matrix, feature matrix.\n",
        "#         y: np.ndarray, labels.\n",
        "#         num_features: int, number of features.\n",
        "#         batch_size: int, number of samples per batch.\n",
        "\n",
        "#     # Returns\n",
        "#         Yields feature and label data in batches.\n",
        "#     \"\"\"\n",
        "#     num_samples = x.shape[0]\n",
        "#     num_batches = num_samples // batch_size\n",
        "#     if num_samples % batch_size:\n",
        "#         num_batches += 1\n",
        "\n",
        "#     while 1:\n",
        "#         for i in range(num_batches):\n",
        "#             start_idx = i * batch_size\n",
        "#             end_idx = (i + 1) * batch_size\n",
        "#             if end_idx > num_samples:\n",
        "#                 end_idx = num_samples\n",
        "#             x_batch = x[start_idx:end_idx]\n",
        "#             y_batch = y[start_idx:end_idx]\n",
        "#             yield x_batch, y_batch\n",
        "\n",
        "# # Create training and validation generators.\n",
        "# num_features = 1\n",
        "# batch_size = 32\n",
        "\n",
        "# training_generator = _data_generator(\n",
        "#     X_train, y_train, num_features, batch_size)\n",
        "# validation_generator = _data_generator(\n",
        "#     X_val, y_val, num_features, batch_size)\n",
        "\n",
        "# # Get number of training steps. This indicated the number of steps it takes\n",
        "# # to cover all samples in one epoch.\n",
        "# steps_per_epoch = X_train.shape[0] // batch_size\n",
        "# if x_train.shape[0] % batch_size:\n",
        "#     steps_per_epoch += 1\n",
        "\n",
        "# # Get number of validation steps.\n",
        "# validation_steps = X_val.shape[0] // batch_size\n",
        "# if X_val.shape[0] % batch_size:\n",
        "#     validation_steps += 1\n",
        "\n",
        "# history = model.fit_generator(\n",
        "#     generator=training_generator,\n",
        "#     steps_per_epoch=steps_per_epoch,\n",
        "#     validation_data=validation_generator,\n",
        "#     validation_steps=validation_steps,\n",
        "#     callbacks=callbacks,\n",
        "#     epochs=num_epochs,\n",
        "#     verbose=2)"
      ],
      "execution_count": 0,
      "outputs": []
    },
    {
      "cell_type": "code",
      "metadata": {
        "colab_type": "code",
        "id": "Rnwca5t-S2cP",
        "outputId": "6110947c-1517-41a7-c02e-df93ab1ea048",
        "colab": {
          "base_uri": "https://localhost:8080/",
          "height": 416
        }
      },
      "source": [
        "start_time= time.time()\n",
        "\n",
        "history = model.fit(X_train, y_train, epochs=num_epochs, validation_data=(X_val,y_val),\n",
        "                   callbacks=callbacks,batch_size=32)\n",
        "end_time = time.time()-start_time\n",
        "\n",
        "measured_time = time.strftime(\"%H:%M:%S\", time.gmtime(end_time))\n",
        "\n",
        "print('\\nTime to execute training :' ,measured_time)\n",
        "\n"
      ],
      "execution_count": 0,
      "outputs": [
        {
          "output_type": "stream",
          "text": [
            "Train on 2880000 samples, validate on 720000 samples\n",
            "Epoch 1/10\n",
            "2880000/2880000 [==============================] - 523s 182us/sample - loss: 0.2427 - accuracy: 0.9014 - val_loss: 0.2246 - val_accuracy: 0.9101\n",
            "Epoch 2/10\n",
            "2880000/2880000 [==============================] - 525s 182us/sample - loss: 0.2390 - accuracy: 0.9033 - val_loss: 0.2229 - val_accuracy: 0.9111\n",
            "Epoch 3/10\n",
            "2880000/2880000 [==============================] - 521s 181us/sample - loss: 0.2378 - accuracy: 0.9041 - val_loss: 0.2221 - val_accuracy: 0.9114\n",
            "Epoch 4/10\n",
            "2880000/2880000 [==============================] - 520s 181us/sample - loss: 0.2368 - accuracy: 0.9046 - val_loss: 0.2227 - val_accuracy: 0.9113\n",
            "Epoch 5/10\n",
            "2880000/2880000 [==============================] - 521s 181us/sample - loss: 0.2363 - accuracy: 0.9048 - val_loss: 0.2226 - val_accuracy: 0.9122\n",
            "Epoch 6/10\n",
            "2880000/2880000 [==============================] - 520s 181us/sample - loss: 0.2361 - accuracy: 0.9051 - val_loss: 0.2232 - val_accuracy: 0.9109\n",
            "Epoch 7/10\n",
            "2880000/2880000 [==============================] - 516s 179us/sample - loss: 0.2356 - accuracy: 0.9053 - val_loss: 0.2237 - val_accuracy: 0.9117\n",
            "Epoch 8/10\n",
            "2880000/2880000 [==============================] - 516s 179us/sample - loss: 0.2354 - accuracy: 0.9054 - val_loss: 0.2206 - val_accuracy: 0.9123\n",
            "Epoch 9/10\n",
            "2880000/2880000 [==============================] - 515s 179us/sample - loss: 0.2353 - accuracy: 0.9056 - val_loss: 0.2190 - val_accuracy: 0.9124\n",
            "Epoch 10/10\n",
            "2880000/2880000 [==============================] - 516s 179us/sample - loss: 0.2349 - accuracy: 0.9057 - val_loss: 0.2213 - val_accuracy: 0.9126\n",
            "\n",
            "Time to execute training : 01:26:34\n"
          ],
          "name": "stdout"
        }
      ]
    },
    {
      "cell_type": "code",
      "metadata": {
        "colab_type": "code",
        "id": "VrrBdYuJfaOr",
        "outputId": "810c0b1a-fa6d-4694-e847-c702d223c22c",
        "colab": {
          "base_uri": "https://localhost:8080/",
          "height": 1000
        }
      },
      "source": [
        "%time\n",
        "\n",
        "\n",
        "\n",
        "plot_graphs(history,'accuracy')\n",
        "\n",
        "plot_graphs(history,'loss')\n",
        "\n",
        "#plt.savefig('simple_model.jpg')"
      ],
      "execution_count": 0,
      "outputs": [
        {
          "output_type": "stream",
          "text": [
            "CPU times: user 3 µs, sys: 1 µs, total: 4 µs\n",
            "Wall time: 7.39 µs\n"
          ],
          "name": "stdout"
        },
        {
          "output_type": "display_data",
          "data": {
            "image/png": "[encoded data removed]",
            "text/plain": [
              "<Figure size 864x576 with 1 Axes>"
            ]
          },
          "metadata": {
            "tags": []
          }
        },
        {
          "output_type": "display_data",
          "data": {
            "image/png": "[encoded data removed]",
            "text/plain": [
              "<Figure size 864x576 with 1 Axes>"
            ]
          },
          "metadata": {
            "tags": []
          }
        }
      ]
    },
    {
      "cell_type": "code",
      "metadata": {
        "colab_type": "code",
        "id": "EZFZZa0O3eFT",
        "outputId": "70ee3b99-d8db-4f0d-f22b-53645511f533",
        "colab": {
          "base_uri": "https://localhost:8080/",
          "height": 69
        }
      },
      "source": [
        "score, acc = model.evaluate(x_test, y_test)\n",
        "print('Test score:', score)\n",
        "print('Test accuracy:', acc)\n"
      ],
      "execution_count": 0,
      "outputs": [
        {
          "output_type": "stream",
          "text": [
            "400000/400000 [==============================] - 30s 75us/sample - loss: 0.2228 - accuracy: 0.9116\n",
            "Test score: 0.2227530629916489\n",
            "Test accuracy: 0.91161\n"
          ],
          "name": "stdout"
        }
      ]
    },
    {
      "cell_type": "code",
      "metadata": {
        "colab_type": "code",
        "id": "HzLeTQ-YLyex",
        "colab": {}
      },
      "source": [
        ""
      ],
      "execution_count": 0,
      "outputs": []
    },
    {
      "cell_type": "markdown",
      "metadata": {
        "colab_type": "text",
        "id": "as3SIm7byIhe"
      },
      "source": [
        "### LSTM Model\n"
      ]
    },
    {
      "cell_type": "code",
      "metadata": {
        "colab_type": "code",
        "id": "zDa4F-UlBpiT",
        "colab": {}
      },
      "source": [
        "vocab_size = 20000\n",
        "embedding_dim = 128\n",
        "\n",
        "\n",
        "# lstm_model = tf.keras.Sequential([\n",
        "#     tf.keras.layers.Embedding(vocab_size, embedding_dim, input_length=120),\n",
        "#     tf.keras.layers.SpatialDropout1D(0.2),\n",
        "#     tf.keras.layers.Bidirectional(tf.keras.layers.LSTM(256,dropout=0.2)),\n",
        "#     tf.keras.layers.Dense(1, activation='sigmoid')\n",
        "# ])\n",
        "\n",
        "lstm_model = tf.keras.Sequential([\n",
        "    tf.keras.layers.Embedding(vocab_size, embedding_dim,input_length=120),\n",
        "    tf.keras.layers.Bidirectional(tf.keras.layers.LSTM(64,  return_sequences=True)),\n",
        "    tf.keras.layers.Bidirectional(tf.keras.layers.LSTM(32)),\n",
        "    tf.keras.layers.Dropout(0.5),\n",
        "    tf.keras.layers.Dense(64, activation='relu'),\n",
        "    tf.keras.layers.Dropout(0.5),\n",
        "    tf.keras.layers.Dense(1, activation='sigmoid')\n",
        "])\n",
        "\n",
        "\n",
        "lstm_model.compile(loss='binary_crossentropy',\n",
        "              optimizer=tf.keras.optimizers.Adam(1e-4),\n",
        "              metrics=['accuracy'])\n"
      ],
      "execution_count": 0,
      "outputs": []
    },
    {
      "cell_type": "code",
      "metadata": {
        "colab_type": "code",
        "id": "2-DFR9WBBxHN",
        "outputId": "09108629-ac9a-4097-94fb-a32eb9bbec04",
        "colab": {
          "base_uri": "https://localhost:8080/",
          "height": 139
        }
      },
      "source": [
        "import time\n",
        "\n",
        "start_time= time.time()\n",
        "\n",
        "lstm_history = lstm_model.fit(X_train, y_train, epochs=num_epochs, validation_data=(X_val,y_val),\n",
        "                    callbacks=callbacks,batch_size=16,shuffle=True)\n",
        "\n",
        "end_time = time.time()-start_time\n",
        "\n",
        "measured_time = time.strftime(\"%H:%M:%S\", time.gmtime(end_time))\n",
        "\n",
        "print('\\nTime to execute training :' ,measured_time)\n"
      ],
      "execution_count": 0,
      "outputs": [
        {
          "output_type": "stream",
          "text": [
            "Train on 2880000 samples, validate on 720000 samples\n",
            "Epoch 1/10\n",
            "2880000/2880000 [==============================] - 8070s 3ms/sample - loss: 0.1932 - accuracy: 0.9269 - val_loss: 0.1550 - val_accuracy: 0.9414\n",
            "Epoch 2/10\n",
            "2880000/2880000 [==============================] - 7953s 3ms/sample - loss: 0.1530 - accuracy: 0.9445 - val_loss: 0.1433 - val_accuracy: 0.9464\n",
            "Epoch 3/10\n",
            "2880000/2880000 [==============================] - 7609s 3ms/sample - loss: 0.1394 - accuracy: 0.9501 - val_loss: 0.1368 - val_accuracy: 0.9492\n",
            "Epoch 4/10\n",
            "2880000/2880000 [==============================] - 7614s 3ms/sample - loss: 0.1303 - accuracy: 0.9540 - val_loss: 0.1350 - val_accuracy: 0.9499\n",
            "Epoch 5/10\n",
            "2880000/2880000 [==============================] - 7614s 3ms/sample - loss: 0.1231 - accuracy: 0.9570 - val_loss: 0.1339 - val_accuracy: 0.9505\n",
            "Epoch 6/10\n",
            "2880000/2880000 [==============================] - 7632s 3ms/sample - loss: 0.1168 - accuracy: 0.9597 - val_loss: 0.1376 - val_accuracy: 0.9495\n",
            "Epoch 7/10\n",
            "2880000/2880000 [==============================] - 7715s 3ms/sample - loss: 0.1111 - accuracy: 0.9619 - val_loss: 0.1412 - val_accuracy: 0.9506\n",
            "Epoch 8/10\n",
            "2880000/2880000 [==============================] - 7672s 3ms/sample - loss: 0.1059 - accuracy: 0.9641 - val_loss: 0.1393 - val_accuracy: 0.9499\n",
            "Epoch 9/10\n",
            "2880000/2880000 [==============================] - 7987s 3ms/sample - loss: 0.1009 - accuracy: 0.9661 - val_loss: 0.1464 - val_accuracy: 0.9494\n",
            "Epoch 10/10\n",
            "2880000/2880000 [==============================] - 7835s 3ms/sample - loss: 0.0960 - accuracy: 0.9681 - val_loss: 0.1475 - val_accuracy: 0.9489\n",
            "\n",
            "Time to execute training : 21:35:03\n"
          ],
          "name": "stdout"
        }
      ]
    },
    {
      "cell_type": "code",
      "metadata": {
        "colab_type": "code",
        "id": "D3rYiIm5FdOf",
        "outputId": "dce87be7-63d9-4a7d-ff4d-1c8499387bf5",
        "colab": {
          "base_uri": "https://localhost:8080/",
          "height": 185
        }
      },
      "source": [
        "plot_graphs(lstm_history,'accuracy')\n",
        "plot_graphs(lstm_history,'loss')"
      ],
      "execution_count": 0,
      "outputs": [
        {
          "output_type": "display_data",
          "data": {
            "image/png": "[encoded data removed]",
            "text/plain": [
              "<Figure size 864x576 with 1 Axes>"
            ]
          },
          "metadata": {
            "tags": [],
            "needs_background": "light"
          }
        },
        {
          "output_type": "display_data",
          "data": {
            "image/png": "[encoded data removed]",
            "text/plain": [
              "<Figure size 864x576 with 1 Axes>"
            ]
          },
          "metadata": {
            "tags": []
          }
        }
      ]
    },
    {
      "cell_type": "code",
      "metadata": {
        "colab_type": "code",
        "id": "d2YDZE1tf_bo",
        "outputId": "e64c7b96-a927-47ef-a233-1ae2b7a80a60",
        "colab": {
          "base_uri": "https://localhost:8080/",
          "height": 225
        }
      },
      "source": [
        "#### lstm_score, lstm_acc = lstm_model.evaluate(x_test, y_test)\n",
        "print('Test score:', lstm_score)\n",
        "print('Test accuracy:', lstm_acc)"
      ],
      "execution_count": 0,
      "outputs": [
        {
          "output_type": "stream",
          "text": [
            "Test score: 0.14862737049942837\n",
            "Test accuracy: 0.94809\n",
            "Test score: 0.14862737049942837\n",
            "Test accuracy: 0.94809\n"
          ],
          "name": "stdout"
        }
      ]
    },
    {
      "cell_type": "markdown",
      "metadata": {
        "colab_type": "text",
        "id": "V1di28yaUAFG"
      },
      "source": [
        "## Extract the word embeddings "
      ]
    },
    {
      "cell_type": "code",
      "metadata": {
        "colab_type": "code",
        "id": "9vJrQlgTNtyi",
        "outputId": "e9d4002b-9adb-47d1-88cf-e6ecf93bf013",
        "colab": {
          "base_uri": "https://localhost:8080/",
          "height": 34
        }
      },
      "source": [
        "e = lstm_model.layers[0]\n",
        "weights = e.get_weights()[0]\n",
        "print(weights.shape) # shape: (vocab_size, embedding_dim)"
      ],
      "execution_count": 0,
      "outputs": [
        {
          "output_type": "stream",
          "text": [
            "(20000, 128)\n"
          ],
          "name": "stdout"
        }
      ]
    },
    {
      "cell_type": "code",
      "metadata": {
        "colab_type": "code",
        "id": "uhIBy_aSNyBL",
        "colab": {}
      },
      "source": [
        "import io\n",
        "\n",
        "reverse_word_index = dict([(value, key) for (key, value) in indx.items()])\n",
        "\n",
        "out_v = io.open('vecs.tsv', 'w', encoding='utf-8')\n",
        "out_m = io.open('meta.tsv', 'w', encoding='utf-8')\n",
        "for word_num in range(1,vocab_size):\n",
        "  word = reverse_word_index[word_num]\n",
        "  embeddings = weights[word_num]\n",
        "  out_m.write(word + \"\\n\")\n",
        "  out_v.write('\\t'.join([str(x) for x in embeddings]) + \"\\n\")\n",
        "out_v.close()\n",
        "out_m.close()\n"
      ],
      "execution_count": 0,
      "outputs": []
    },
    {
      "cell_type": "code",
      "metadata": {
        "colab_type": "code",
        "id": "xo0e9wWCNyNN",
        "colab": {}
      },
      "source": [
        "try:\n",
        "  from google.colab import files\n",
        "except ImportError:\n",
        "  pass\n",
        "else:\n",
        "  files.download('vecs.tsv')\n",
        "  files.download('meta.tsv')"
      ],
      "execution_count": 0,
      "outputs": []
    },
    {
      "cell_type": "code",
      "metadata": {
        "colab_type": "code",
        "id": "YbusaBAnVBF_",
        "outputId": "4ab442ab-2968-47c1-a7e9-6148eeb66056",
        "colab": {
          "base_uri": "https://localhost:8080/",
          "height": 1000
        }
      },
      "source": [
        "indx"
      ],
      "execution_count": 0,
      "outputs": [
        {
          "output_type": "execute_result",
          "data": {
            "text/plain": [
              "{'the': 1,\n",
              " 'and': 2,\n",
              " 'i': 3,\n",
              " 'a': 4,\n",
              " 'to': 5,\n",
              " 'it': 6,\n",
              " 'of': 7,\n",
              " 'this': 8,\n",
              " 'is': 9,\n",
              " 'in': 10,\n",
              " 'for': 11,\n",
              " 'that': 12,\n",
              " 'was': 13,\n",
              " 'not': 14,\n",
              " 'you': 15,\n",
              " 'but': 16,\n",
              " 'with': 17,\n",
              " 'on': 18,\n",
              " 'book': 19,\n",
              " 'have': 20,\n",
              " 'my': 21,\n",
              " 'as': 22,\n",
              " 'are': 23,\n",
              " 'one': 24,\n",
              " 'be': 25,\n",
              " 'so': 26,\n",
              " 'all': 27,\n",
              " 'if': 28,\n",
              " 'great': 29,\n",
              " 'very': 30,\n",
              " 'good': 31,\n",
              " 'like': 32,\n",
              " 'they': 33,\n",
              " 'at': 34,\n",
              " 'just': 35,\n",
              " 'from': 36,\n",
              " 'or': 37,\n",
              " 'would': 38,\n",
              " 'out': 39,\n",
              " 'about': 40,\n",
              " 'an': 41,\n",
              " 'me': 42,\n",
              " 'has': 43,\n",
              " 'what': 44,\n",
              " 'more': 45,\n",
              " 'had': 46,\n",
              " 'will': 47,\n",
              " 'read': 48,\n",
              " 'when': 49,\n",
              " \"it's\": 50,\n",
              " 'get': 51,\n",
              " 'no': 52,\n",
              " 'up': 53,\n",
              " 'by': 54,\n",
              " 'time': 55,\n",
              " 'there': 56,\n",
              " 'only': 57,\n",
              " 'your': 58,\n",
              " 'can': 59,\n",
              " 'movie': 60,\n",
              " 'he': 61,\n",
              " 'his': 62,\n",
              " \"don't\": 63,\n",
              " 'really': 64,\n",
              " 'some': 65,\n",
              " 'do': 66,\n",
              " 'well': 67,\n",
              " 'than': 68,\n",
              " 'them': 69,\n",
              " 'who': 70,\n",
              " 'much': 71,\n",
              " 'even': 72,\n",
              " 'first': 73,\n",
              " 'other': 74,\n",
              " 'we': 75,\n",
              " 'these': 76,\n",
              " 'her': 77,\n",
              " 'after': 78,\n",
              " 'love': 79,\n",
              " 'because': 80,\n",
              " 'buy': 81,\n",
              " 'too': 82,\n",
              " 'were': 83,\n",
              " 'product': 84,\n",
              " 'how': 85,\n",
              " 'best': 86,\n",
              " 'been': 87,\n",
              " 'which': 88,\n",
              " 'better': 89,\n",
              " 'use': 90,\n",
              " 'work': 91,\n",
              " 'their': 92,\n",
              " 'cd': 93,\n",
              " 'any': 94,\n",
              " 'she': 95,\n",
              " 'also': 96,\n",
              " 'am': 97,\n",
              " 'bought': 98,\n",
              " 'did': 99,\n",
              " 'could': 100,\n",
              " 'then': 101,\n",
              " 'new': 102,\n",
              " 'album': 103,\n",
              " 'story': 104,\n",
              " 'way': 105,\n",
              " 'little': 106,\n",
              " 'now': 107,\n",
              " \"i'm\": 108,\n",
              " 'does': 109,\n",
              " 'many': 110,\n",
              " 'over': 111,\n",
              " 'back': 112,\n",
              " 'money': 113,\n",
              " 'into': 114,\n",
              " 'think': 115,\n",
              " 'most': 116,\n",
              " 'music': 117,\n",
              " 'make': 118,\n",
              " 'off': 119,\n",
              " '2': 120,\n",
              " 'never': 121,\n",
              " 'its': 122,\n",
              " 'know': 123,\n",
              " 'two': 124,\n",
              " 'got': 125,\n",
              " 'still': 126,\n",
              " 'bad': 127,\n",
              " 'made': 128,\n",
              " 'see': 129,\n",
              " 'should': 130,\n",
              " 'ever': 131,\n",
              " 'want': 132,\n",
              " 'old': 133,\n",
              " 'people': 134,\n",
              " 'books': 135,\n",
              " 'find': 136,\n",
              " 'years': 137,\n",
              " \"i've\": 138,\n",
              " 'recommend': 139,\n",
              " 'quality': 140,\n",
              " 'used': 141,\n",
              " \"didn't\": 142,\n",
              " 'go': 143,\n",
              " 'game': 144,\n",
              " 'another': 145,\n",
              " 'again': 146,\n",
              " 'reading': 147,\n",
              " 'dvd': 148,\n",
              " 'same': 149,\n",
              " 'found': 150,\n",
              " 'through': 151,\n",
              " 'say': 152,\n",
              " 'life': 153,\n",
              " 'before': 154,\n",
              " 'put': 155,\n",
              " \"can't\": 156,\n",
              " 'while': 157,\n",
              " 'songs': 158,\n",
              " 'every': 159,\n",
              " 'few': 160,\n",
              " 'thing': 161,\n",
              " 'worth': 162,\n",
              " 'down': 163,\n",
              " 'thought': 164,\n",
              " 'something': 165,\n",
              " \"doesn't\": 166,\n",
              " '3': 167,\n",
              " 'easy': 168,\n",
              " 'price': 169,\n",
              " '1': 170,\n",
              " 'our': 171,\n",
              " 'long': 172,\n",
              " 'film': 173,\n",
              " 'works': 174,\n",
              " 'sound': 175,\n",
              " 'lot': 176,\n",
              " '5': 177,\n",
              " 'year': 178,\n",
              " 'must': 179,\n",
              " 'however': 180,\n",
              " 'amazon': 181,\n",
              " 'hard': 182,\n",
              " 'why': 183,\n",
              " 'give': 184,\n",
              " 'those': 185,\n",
              " 'right': 186,\n",
              " 'need': 187,\n",
              " 'going': 188,\n",
              " 'looking': 189,\n",
              " 'excellent': 190,\n",
              " 'since': 191,\n",
              " 'nice': 192,\n",
              " 'being': 193,\n",
              " 'characters': 194,\n",
              " 'waste': 195,\n",
              " 'enough': 196,\n",
              " 'set': 197,\n",
              " 'nothing': 198,\n",
              " 'real': 199,\n",
              " 'look': 200,\n",
              " 'here': 201,\n",
              " 'day': 202,\n",
              " 'where': 203,\n",
              " 'last': 204,\n",
              " 'disappointed': 205,\n",
              " 'times': 206,\n",
              " 'anyone': 207,\n",
              " 'series': 208,\n",
              " 'makes': 209,\n",
              " 'take': 210,\n",
              " 'different': 211,\n",
              " 'own': 212,\n",
              " 'without': 213,\n",
              " 'though': 214,\n",
              " 'fun': 215,\n",
              " 'such': 216,\n",
              " '4': 217,\n",
              " 'written': 218,\n",
              " 'end': 219,\n",
              " 'fan': 220,\n",
              " 'big': 221,\n",
              " 'watch': 222,\n",
              " 'far': 223,\n",
              " 'author': 224,\n",
              " 'song': 225,\n",
              " 'purchased': 226,\n",
              " 'him': 227,\n",
              " 'around': 228,\n",
              " 'both': 229,\n",
              " 'feel': 230,\n",
              " 'reviews': 231,\n",
              " 'sure': 232,\n",
              " 'pretty': 233,\n",
              " 'come': 234,\n",
              " 'us': 235,\n",
              " 'using': 236,\n",
              " 'play': 237,\n",
              " 'problem': 238,\n",
              " 'actually': 239,\n",
              " 'may': 240,\n",
              " 'away': 241,\n",
              " 'things': 242,\n",
              " 'keep': 243,\n",
              " 'always': 244,\n",
              " 'interesting': 245,\n",
              " 'bit': 246,\n",
              " 'version': 247,\n",
              " 'small': 248,\n",
              " 'each': 249,\n",
              " 'anything': 250,\n",
              " 'show': 251,\n",
              " 'try': 252,\n",
              " 'part': 253,\n",
              " 'world': 254,\n",
              " 'stars': 255,\n",
              " 'loved': 256,\n",
              " 'review': 257,\n",
              " 'wonderful': 258,\n",
              " 'seems': 259,\n",
              " 'tried': 260,\n",
              " 'item': 261,\n",
              " 'came': 262,\n",
              " 'almost': 263,\n",
              " 'poor': 264,\n",
              " 'original': 265,\n",
              " 'months': 266,\n",
              " 'quite': 267,\n",
              " 'yet': 268,\n",
              " 'said': 269,\n",
              " 'once': 270,\n",
              " 'help': 271,\n",
              " 'perfect': 272,\n",
              " 'video': 273,\n",
              " 'high': 274,\n",
              " 'done': 275,\n",
              " 'highly': 276,\n",
              " 'purchase': 277,\n",
              " 'getting': 278,\n",
              " 'less': 279,\n",
              " 'enjoy': 280,\n",
              " 'next': 281,\n",
              " 'seen': 282,\n",
              " 'second': 283,\n",
              " 'writing': 284,\n",
              " 'instead': 285,\n",
              " 'everything': 286,\n",
              " 'having': 287,\n",
              " 'boring': 288,\n",
              " 'plot': 289,\n",
              " 'information': 290,\n",
              " 'whole': 291,\n",
              " 'worst': 292,\n",
              " \"you're\": 293,\n",
              " 'wanted': 294,\n",
              " 'fine': 295,\n",
              " '10': 296,\n",
              " 'favorite': 297,\n",
              " 'several': 298,\n",
              " 'days': 299,\n",
              " 'three': 300,\n",
              " 'might': 301,\n",
              " 'believe': 302,\n",
              " 'star': 303,\n",
              " 'maybe': 304,\n",
              " \"that's\": 305,\n",
              " 'trying': 306,\n",
              " 'buying': 307,\n",
              " 'live': 308,\n",
              " 'received': 309,\n",
              " 'wrong': 310,\n",
              " 'probably': 311,\n",
              " \"isn't\": 312,\n",
              " 'movies': 313,\n",
              " 'heard': 314,\n",
              " 'worked': 315,\n",
              " 'band': 316,\n",
              " 'full': 317,\n",
              " 'box': 318,\n",
              " 'true': 319,\n",
              " 'least': 320,\n",
              " 'light': 321,\n",
              " 'able': 322,\n",
              " 'fit': 323,\n",
              " 'man': 324,\n",
              " 'until': 325,\n",
              " 'others': 326,\n",
              " \"won't\": 327,\n",
              " 'short': 328,\n",
              " \"couldn't\": 329,\n",
              " 'someone': 330,\n",
              " 'top': 331,\n",
              " 'happy': 332,\n",
              " 'job': 333,\n",
              " 'together': 334,\n",
              " 'ordered': 335,\n",
              " 'ago': 336,\n",
              " 'definitely': 337,\n",
              " 'listen': 338,\n",
              " 'order': 339,\n",
              " 'wish': 340,\n",
              " 'fact': 341,\n",
              " 'home': 342,\n",
              " 'cover': 343,\n",
              " 'point': 344,\n",
              " 'kids': 345,\n",
              " 'took': 346,\n",
              " 'character': 347,\n",
              " 'already': 348,\n",
              " 'case': 349,\n",
              " 'amazing': 350,\n",
              " 'although': 351,\n",
              " 'especially': 352,\n",
              " 'looks': 353,\n",
              " 'funny': 354,\n",
              " 'family': 355,\n",
              " 'went': 356,\n",
              " 'else': 357,\n",
              " 'stuff': 358,\n",
              " 'understand': 359,\n",
              " 'novel': 360,\n",
              " 'enjoyed': 361,\n",
              " 'piece': 362,\n",
              " 'started': 363,\n",
              " 'minutes': 364,\n",
              " 'history': 365,\n",
              " 'beautiful': 366,\n",
              " 'place': 367,\n",
              " 'let': 368,\n",
              " 'problems': 369,\n",
              " 'collection': 370,\n",
              " 'water': 371,\n",
              " 'gave': 372,\n",
              " \"wasn't\": 373,\n",
              " 'style': 374,\n",
              " 'half': 375,\n",
              " 'cheap': 376,\n",
              " 'comes': 377,\n",
              " 'gets': 378,\n",
              " 'liked': 379,\n",
              " 'pages': 380,\n",
              " 'saw': 381,\n",
              " 'line': 382,\n",
              " 'kind': 383,\n",
              " 'unit': 384,\n",
              " 'return': 385,\n",
              " 'start': 386,\n",
              " 'between': 387,\n",
              " 'left': 388,\n",
              " 'size': 389,\n",
              " 'working': 390,\n",
              " \"i'd\": 391,\n",
              " 'terrible': 392,\n",
              " 'making': 393,\n",
              " 'myself': 394,\n",
              " 'picture': 395,\n",
              " 'classic': 396,\n",
              " 'hope': 397,\n",
              " '6': 398,\n",
              " 'save': 399,\n",
              " 'awesome': 400,\n",
              " 'rather': 401,\n",
              " 'ok': 402,\n",
              " 'tell': 403,\n",
              " 'either': 404,\n",
              " 'reason': 405,\n",
              " 'overall': 406,\n",
              " 'side': 407,\n",
              " 'voice': 408,\n",
              " 'son': 409,\n",
              " 'everyone': 410,\n",
              " 'rock': 411,\n",
              " 'simply': 412,\n",
              " 'hear': 413,\n",
              " 'horrible': 414,\n",
              " 'couple': 415,\n",
              " 'etc': 416,\n",
              " 'gift': 417,\n",
              " 'tv': 418,\n",
              " 'stories': 419,\n",
              " 'please': 420,\n",
              " 'children': 421,\n",
              " 'idea': 422,\n",
              " \"you'll\": 423,\n",
              " 'christmas': 424,\n",
              " 'page': 425,\n",
              " 'takes': 426,\n",
              " 'completely': 427,\n",
              " 'plastic': 428,\n",
              " 'expected': 429,\n",
              " 'fast': 430,\n",
              " 'sounds': 431,\n",
              " 'black': 432,\n",
              " 'finally': 433,\n",
              " 'player': 434,\n",
              " 'person': 435,\n",
              " 'simple': 436,\n",
              " 'camera': 437,\n",
              " 'power': 438,\n",
              " 'phone': 439,\n",
              " 'battery': 440,\n",
              " 'mind': 441,\n",
              " 'seem': 442,\n",
              " 'absolutely': 443,\n",
              " 'watching': 444,\n",
              " 'along': 445,\n",
              " 'service': 446,\n",
              " 'daughter': 447,\n",
              " 'needed': 448,\n",
              " 'wait': 449,\n",
              " 'loves': 450,\n",
              " 'easily': 451,\n",
              " 'fans': 452,\n",
              " 'experience': 453,\n",
              " 'goes': 454,\n",
              " 'learn': 455,\n",
              " \"wouldn't\": 456,\n",
              " 'cannot': 457,\n",
              " 'playing': 458,\n",
              " 'reader': 459,\n",
              " 'difficult': 460,\n",
              " 'under': 461,\n",
              " 'young': 462,\n",
              " 'hours': 463,\n",
              " 'copy': 464,\n",
              " 'lost': 465,\n",
              " 'shows': 466,\n",
              " 'friends': 467,\n",
              " 'needs': 468,\n",
              " 'low': 469,\n",
              " 'night': 470,\n",
              " 'house': 471,\n",
              " 'hold': 472,\n",
              " 'school': 473,\n",
              " 'felt': 474,\n",
              " 'company': 475,\n",
              " 'truly': 476,\n",
              " \"i'll\": 477,\n",
              " 'rest': 478,\n",
              " 'action': 479,\n",
              " 'guess': 480,\n",
              " 'disappointing': 481,\n",
              " 'words': 482,\n",
              " 'complete': 483,\n",
              " 'past': 484,\n",
              " 'turn': 485,\n",
              " 'toy': 486,\n",
              " 'title': 487,\n",
              " 'store': 488,\n",
              " 'track': 489,\n",
              " 'thinking': 490,\n",
              " 'doing': 491,\n",
              " 'called': 492,\n",
              " 'extremely': 493,\n",
              " 'recommended': 494,\n",
              " 'ones': 495,\n",
              " 'course': 496,\n",
              " 'weeks': 497,\n",
              " 'computer': 498,\n",
              " 'free': 499,\n",
              " 'support': 500,\n",
              " 'says': 501,\n",
              " 'child': 502,\n",
              " 'during': 503,\n",
              " 'itself': 504,\n",
              " 'system': 505,\n",
              " 'given': 506,\n",
              " \"there's\": 507,\n",
              " 'name': 508,\n",
              " 'cool': 509,\n",
              " 'pay': 510,\n",
              " 'yourself': 511,\n",
              " 'write': 512,\n",
              " 'baby': 513,\n",
              " 'material': 514,\n",
              " 'month': 515,\n",
              " 'week': 516,\n",
              " 'unfortunately': 517,\n",
              " 'clear': 518,\n",
              " 'stay': 519,\n",
              " 'gives': 520,\n",
              " 'later': 521,\n",
              " 'dont': 522,\n",
              " 'parts': 523,\n",
              " 'god': 524,\n",
              " 'mr': 525,\n",
              " 'hand': 526,\n",
              " '20': 527,\n",
              " 'played': 528,\n",
              " 'care': 529,\n",
              " 'type': 530,\n",
              " 'tracks': 531,\n",
              " 'pictures': 532,\n",
              " 'yes': 533,\n",
              " 'longer': 534,\n",
              " 'season': 535,\n",
              " 'main': 536,\n",
              " 'head': 537,\n",
              " '8': 538,\n",
              " 'american': 539,\n",
              " 'totally': 540,\n",
              " 'car': 541,\n",
              " 'deal': 542,\n",
              " 'change': 543,\n",
              " 'design': 544,\n",
              " 'stop': 545,\n",
              " 'run': 546,\n",
              " 'based': 547,\n",
              " 'often': 548,\n",
              " 'sense': 549,\n",
              " 'friend': 550,\n",
              " 'within': 551,\n",
              " 'told': 552,\n",
              " 'color': 553,\n",
              " 'coffee': 554,\n",
              " 'quickly': 555,\n",
              " 'single': 556,\n",
              " 'release': 557,\n",
              " 'acting': 558,\n",
              " 'broke': 559,\n",
              " 'disc': 560,\n",
              " 'expect': 561,\n",
              " 'machine': 562,\n",
              " 'hot': 563,\n",
              " 'close': 564,\n",
              " 'cut': 565,\n",
              " 'today': 566,\n",
              " 'entire': 567,\n",
              " 'ending': 568,\n",
              " 'large': 569,\n",
              " 'hair': 570,\n",
              " 'clean': 571,\n",
              " 'listening': 572,\n",
              " 'albums': 573,\n",
              " 'slow': 574,\n",
              " 'guy': 575,\n",
              " 'special': 576,\n",
              " 'shipping': 577,\n",
              " 'available': 578,\n",
              " 'open': 579,\n",
              " 'white': 580,\n",
              " 'metal': 581,\n",
              " 'self': 582,\n",
              " 'awful': 583,\n",
              " 'seemed': 584,\n",
              " \"haven't\": 585,\n",
              " 'huge': 586,\n",
              " 'lots': 587,\n",
              " 'kept': 588,\n",
              " 'sometimes': 589,\n",
              " 'unless': 590,\n",
              " 'arrived': 591,\n",
              " 'four': 592,\n",
              " 'heart': 593,\n",
              " 'brand': 594,\n",
              " 'sorry': 595,\n",
              " 'products': 596,\n",
              " 'sent': 597,\n",
              " 'girl': 598,\n",
              " 'heavy': 599,\n",
              " 'games': 600,\n",
              " 'check': 601,\n",
              " 'interested': 602,\n",
              " 'room': 603,\n",
              " 'screen': 604,\n",
              " 'junk': 605,\n",
              " 'decided': 606,\n",
              " 'disappointment': 607,\n",
              " 'looked': 608,\n",
              " 'useful': 609,\n",
              " 'follow': 610,\n",
              " 'level': 611,\n",
              " 's': 612,\n",
              " 'replacement': 613,\n",
              " 'non': 614,\n",
              " 'inside': 615,\n",
              " '7': 616,\n",
              " 'finish': 617,\n",
              " 'dog': 618,\n",
              " 'word': 619,\n",
              " 'matter': 620,\n",
              " 'exactly': 621,\n",
              " '30': 622,\n",
              " 'customer': 623,\n",
              " 'strong': 624,\n",
              " 'cost': 625,\n",
              " 'plus': 626,\n",
              " 'glad': 627,\n",
              " 'fantastic': 628,\n",
              " 'husband': 629,\n",
              " 'edition': 630,\n",
              " 'war': 631,\n",
              " 'returned': 632,\n",
              " 'guide': 633,\n",
              " 'scenes': 634,\n",
              " 'value': 635,\n",
              " 'number': 636,\n",
              " 'software': 637,\n",
              " 'five': 638,\n",
              " 'poorly': 639,\n",
              " 'call': 640,\n",
              " 'add': 641,\n",
              " 'pop': 642,\n",
              " 'early': 643,\n",
              " 'opinion': 644,\n",
              " 'oh': 645,\n",
              " 'remember': 646,\n",
              " 'previous': 647,\n",
              " 'mine': 648,\n",
              " 'women': 649,\n",
              " 'b': 650,\n",
              " 'lyrics': 651,\n",
              " 'forward': 652,\n",
              " 'stand': 653,\n",
              " 'age': 654,\n",
              " 'bag': 655,\n",
              " 'mean': 656,\n",
              " 'expensive': 657,\n",
              " 'e': 658,\n",
              " 'thank': 659,\n",
              " 'perhaps': 660,\n",
              " 'soon': 661,\n",
              " 'helpful': 662,\n",
              " 'happened': 663,\n",
              " 'entertaining': 664,\n",
              " \"he's\": 665,\n",
              " 'pick': 666,\n",
              " 'text': 667,\n",
              " 'guys': 668,\n",
              " 'worse': 669,\n",
              " 'beginning': 670,\n",
              " 'radio': 671,\n",
              " 'spend': 672,\n",
              " 'extra': 673,\n",
              " 'important': 674,\n",
              " 'record': 675,\n",
              " 'class': 676,\n",
              " 'woman': 677,\n",
              " 'hit': 678,\n",
              " 'certainly': 679,\n",
              " 'batteries': 680,\n",
              " 'model': 681,\n",
              " 'paper': 682,\n",
              " 'hate': 683,\n",
              " 'performance': 684,\n",
              " 'dark': 685,\n",
              " 'stick': 686,\n",
              " 'taking': 687,\n",
              " 'turned': 688,\n",
              " 'become': 689,\n",
              " 'missing': 690,\n",
              " 'quick': 691,\n",
              " 'bottom': 692,\n",
              " 'food': 693,\n",
              " 'card': 694,\n",
              " 'wife': 695,\n",
              " 'guitar': 696,\n",
              " 'description': 697,\n",
              " 'sad': 698,\n",
              " 'except': 699,\n",
              " 'john': 700,\n",
              " 're': 701,\n",
              " 'thanks': 702,\n",
              " 'paid': 703,\n",
              " 'recording': 704,\n",
              " 'pieces': 705,\n",
              " 'cable': 706,\n",
              " 'agree': 707,\n",
              " 'coming': 708,\n",
              " 'usually': 709,\n",
              " 'stopped': 710,\n",
              " '15': 711,\n",
              " \"they're\": 712,\n",
              " 'decent': 713,\n",
              " 'issues': 714,\n",
              " 'basic': 715,\n",
              " 'features': 716,\n",
              " 'dead': 717,\n",
              " 'useless': 718,\n",
              " 'face': 719,\n",
              " 'boy': 720,\n",
              " 'stupid': 721,\n",
              " 'example': 722,\n",
              " 'spent': 723,\n",
              " 'supposed': 724,\n",
              " '12': 725,\n",
              " 'business': 726,\n",
              " 'art': 727,\n",
              " 'english': 728,\n",
              " 'view': 729,\n",
              " 'chapter': 730,\n",
              " 'watched': 731,\n",
              " 'knew': 732,\n",
              " 'due': 733,\n",
              " 'broken': 734,\n",
              " 'move': 735,\n",
              " 'subject': 736,\n",
              " 'seller': 737,\n",
              " 'country': 738,\n",
              " 'garbage': 739,\n",
              " 'leave': 740,\n",
              " 'annoying': 741,\n",
              " 'ideas': 742,\n",
              " 'greatest': 743,\n",
              " 'tape': 744,\n",
              " 'older': 745,\n",
              " 'language': 746,\n",
              " 'otherwise': 747,\n",
              " 'cute': 748,\n",
              " 'u': 749,\n",
              " 'volume': 750,\n",
              " 'personal': 751,\n",
              " 'tool': 752,\n",
              " 'included': 753,\n",
              " 'group': 754,\n",
              " 'anyway': 755,\n",
              " 'control': 756,\n",
              " 'gone': 757,\n",
              " 'air': 758,\n",
              " 'drive': 759,\n",
              " 'fiction': 760,\n",
              " '9': 761,\n",
              " '100': 762,\n",
              " 'interest': 763,\n",
              " 'known': 764,\n",
              " 'pleased': 765,\n",
              " 'total': 766,\n",
              " 'scene': 767,\n",
              " 'replace': 768,\n",
              " 'c': 769,\n",
              " 'print': 770,\n",
              " 'writer': 771,\n",
              " 'taste': 772,\n",
              " 'space': 773,\n",
              " 'handle': 774,\n",
              " 'hoping': 775,\n",
              " 'wants': 776,\n",
              " 'against': 777,\n",
              " 'third': 778,\n",
              " 'giving': 779,\n",
              " 'keeps': 780,\n",
              " 'future': 781,\n",
              " 'fall': 782,\n",
              " 'program': 783,\n",
              " 'films': 784,\n",
              " 'uses': 785,\n",
              " 'break': 786,\n",
              " 'issue': 787,\n",
              " 'released': 788,\n",
              " 'twice': 789,\n",
              " 'weight': 790,\n",
              " 'feeling': 791,\n",
              " 'hour': 792,\n",
              " 'comfortable': 793,\n",
              " '50': 794,\n",
              " 'behind': 795,\n",
              " 'instructions': 796,\n",
              " 'major': 797,\n",
              " 'waiting': 798,\n",
              " 'solid': 799,\n",
              " 'hands': 800,\n",
              " 'taken': 801,\n",
              " 'super': 802,\n",
              " 'apart': 803,\n",
              " 'send': 804,\n",
              " 'men': 805,\n",
              " 'death': 806,\n",
              " 'enjoyable': 807,\n",
              " 'weak': 808,\n",
              " 'loud': 809,\n",
              " 'recently': 810,\n",
              " 'serious': 811,\n",
              " 'advice': 812,\n",
              " 'okay': 813,\n",
              " 'list': 814,\n",
              " 'seeing': 815,\n",
              " 'middle': 816,\n",
              " 'library': 817,\n",
              " 'avoid': 818,\n",
              " 'body': 819,\n",
              " 'audio': 820,\n",
              " 'authors': 821,\n",
              " 'wonder': 822,\n",
              " 'none': 823,\n",
              " 'online': 824,\n",
              " 'humor': 825,\n",
              " 'd': 826,\n",
              " 'attention': 827,\n",
              " 'de': 828,\n",
              " 'local': 829,\n",
              " 'similar': 830,\n",
              " 'wow': 831,\n",
              " 'lives': 832,\n",
              " 'red': 833,\n",
              " 'mother': 834,\n",
              " 'saying': 835,\n",
              " 'alone': 836,\n",
              " 'beware': 837,\n",
              " 'package': 838,\n",
              " 'including': 839,\n",
              " \"aren't\": 840,\n",
              " 'running': 841,\n",
              " 'front': 842,\n",
              " 'surprised': 843,\n",
              " 'effort': 844,\n",
              " 'blue': 845,\n",
              " 'ended': 846,\n",
              " 'perfectly': 847,\n",
              " 'figure': 848,\n",
              " 'research': 849,\n",
              " 'suggest': 850,\n",
              " 'finished': 851,\n",
              " 'crap': 852,\n",
              " 'condition': 853,\n",
              " 'com': 854,\n",
              " 'production': 855,\n",
              " 'amount': 856,\n",
              " 'reference': 857,\n",
              " 'learning': 858,\n",
              " 'human': 859,\n",
              " 'reviewers': 860,\n",
              " 'content': 861,\n",
              " 'step': 862,\n",
              " 'rate': 863,\n",
              " 'lack': 864,\n",
              " 'wrote': 865,\n",
              " 'device': 866,\n",
              " 'happen': 867,\n",
              " 'actual': 868,\n",
              " 'bother': 869,\n",
              " 'wear': 870,\n",
              " 'clearly': 871,\n",
              " 'beyond': 872,\n",
              " 'cast': 873,\n",
              " 'throughout': 874,\n",
              " 'himself': 875,\n",
              " 'excited': 876,\n",
              " 'date': 877,\n",
              " 'modern': 878,\n",
              " 'chance': 879,\n",
              " 'mystery': 880,\n",
              " 'expecting': 881,\n",
              " 'charge': 882,\n",
              " 'deep': 883,\n",
              " 'living': 884,\n",
              " 'readers': 885,\n",
              " 'dry': 886,\n",
              " 'ray': 887,\n",
              " 'area': 888,\n",
              " 'alot': 889,\n",
              " 't': 890,\n",
              " 'choice': 891,\n",
              " 'addition': 892,\n",
              " 'beat': 893,\n",
              " 'impressed': 894,\n",
              " 'means': 895,\n",
              " 'noise': 896,\n",
              " 'detail': 897,\n",
              " 'changed': 898,\n",
              " 'moving': 899,\n",
              " 'r': 900,\n",
              " 'possible': 901,\n",
              " 'bible': 902,\n",
              " 'ms': 903,\n",
              " 'mostly': 904,\n",
              " 'eyes': 905,\n",
              " 'talent': 906,\n",
              " 'basically': 907,\n",
              " 'across': 908,\n",
              " 'fell': 909,\n",
              " 'questions': 910,\n",
              " 'obviously': 911,\n",
              " 'mix': 912,\n",
              " 'knows': 913,\n",
              " 'sex': 914,\n",
              " 'rating': 915,\n",
              " 'sort': 916,\n",
              " 'trash': 917,\n",
              " 'digital': 918,\n",
              " 'parents': 919,\n",
              " 'trouble': 920,\n",
              " 'singing': 921,\n",
              " 'setting': 922,\n",
              " 'straight': 923,\n",
              " 'miss': 924,\n",
              " 'romance': 925,\n",
              " 'musical': 926,\n",
              " 'nearly': 927,\n",
              " 'horror': 928,\n",
              " 'themselves': 929,\n",
              " 'flat': 930,\n",
              " 'standard': 931,\n",
              " 'unique': 932,\n",
              " 'refund': 933,\n",
              " 'talk': 934,\n",
              " 'dance': 935,\n",
              " 'graphics': 936,\n",
              " 'message': 937,\n",
              " 'bring': 938,\n",
              " 'soft': 939,\n",
              " 'thin': 940,\n",
              " 'regular': 941,\n",
              " 'feature': 942,\n",
              " 'actors': 943,\n",
              " 'kid': 944,\n",
              " 'general': 945,\n",
              " 'effects': 946,\n",
              " 'pain': 947,\n",
              " 'shame': 948,\n",
              " 'girls': 949,\n",
              " 'talking': 950,\n",
              " 'details': 951,\n",
              " 'late': 952,\n",
              " 'seat': 953,\n",
              " 'kindle': 954,\n",
              " 'somewhat': 955,\n",
              " 'recipes': 956,\n",
              " 'difference': 957,\n",
              " 'stuck': 958,\n",
              " 'present': 959,\n",
              " 'truth': 960,\n",
              " 'plan': 961,\n",
              " 'immediately': 962,\n",
              " 'install': 963,\n",
              " \"you've\": 964,\n",
              " 'science': 965,\n",
              " 'learned': 966,\n",
              " 'purchasing': 967,\n",
              " 'historical': 968,\n",
              " 'incredible': 969,\n",
              " 'period': 970,\n",
              " 'form': 971,\n",
              " 'putting': 972,\n",
              " 'impossible': 973,\n",
              " 'forget': 974,\n",
              " 'note': 975,\n",
              " 'depth': 976,\n",
              " \"she's\": 977,\n",
              " 'fits': 978,\n",
              " 'picked': 979,\n",
              " 'covers': 980,\n",
              " 'compared': 981,\n",
              " 'plays': 982,\n",
              " 'powerful': 983,\n",
              " 'upon': 984,\n",
              " 'touch': 985,\n",
              " 'background': 986,\n",
              " 'sweet': 987,\n",
              " 'examples': 988,\n",
              " 'warranty': 989,\n",
              " 'feels': 990,\n",
              " 'windows': 991,\n",
              " 'workout': 992,\n",
              " 'bands': 993,\n",
              " 'test': 994,\n",
              " 'range': 995,\n",
              " 'chapters': 996,\n",
              " 'seriously': 997,\n",
              " 'feet': 998,\n",
              " 'contains': 999,\n",
              " 'christian': 1000,\n",
              " ...}"
            ]
          },
          "metadata": {
            "tags": []
          },
          "execution_count": 28
        }
      ]
    },
    {
      "cell_type": "code",
      "metadata": {
        "colab_type": "code",
        "id": "on3OfAo7zIwA",
        "colab": {}
      },
      "source": [
        "# save the model weights \n",
        "lstm_model.save_weights(\"lstm_model.h5\")"
      ],
      "execution_count": 0,
      "outputs": []
    },
    {
      "cell_type": "markdown",
      "metadata": {
        "id": "vg6ddJDEULVe",
        "colab_type": "text"
      },
      "source": [
        "## References"
      ]
    },
    {
      "cell_type": "markdown",
      "metadata": {
        "id": "APYzZVHnUWYW",
        "colab_type": "text"
      },
      "source": [
        "\n",
        "\n",
        "---\n",
        "\n",
        "\n",
        "1. http://deeplearning.net/tutorial/lstm.html\n",
        "2. https://machinelearningmastery.comgentle-introduction-xgboost-applied-machine-learning/\n",
        "3. https://developers.google.com/machine-learning/guides/text-classification\n",
        "4. https://monkeylearn.com/text-classification/\n",
        "5. https://projector.tensorflow.org/?hl=zh-cn\n",
        "6. https://keras-team.github.io/keras-tuner/\n",
        "7. https://machinelearningmastery.com/tune-number-size-decision-trees-xgboost-python/\n",
        "8. https://fasttext.cc/docs/en/supervised-tutorial.html\n",
        "9. https://www.tensorflow.org/tutorials/text/text_classification_rnn\n",
        "\n",
        "\n",
        "\n",
        "---\n",
        "\n",
        "\n",
        "\n"
      ]
    },
    {
      "cell_type": "markdown",
      "metadata": {
        "colab_type": "text",
        "id": "3IYpC3jtIqzD"
      },
      "source": [
        "## Other"
      ]
    },
    {
      "cell_type": "code",
      "metadata": {
        "colab_type": "code",
        "id": "PSuMF1t6IxcK",
        "colab": {}
      },
      "source": [
        "# vocab_size = 10000\n",
        "# embedding_dim = 16\n",
        "# max_length = 120\n",
        "# trunc_type='post'\n",
        "# oov_tok = \"<OOV>\"\n",
        "\n",
        "\n",
        "# from tensorflow.keras.preprocessing.text import Tokenizer\n",
        "# from tensorflow.keras.preprocessing.sequence import pad_sequences\n",
        "\n",
        "# tokenizer = Tokenizer(num_words = vocab_size, oov_token=oov_tok)\n",
        "# tokenizer.fit_on_texts(train_sentences)\n",
        "# word_index = tokenizer.word_index\n",
        "# sequences = tokenizer.texts_to_sequences(train_sentences)\n",
        "# padded = pad_sequences(sequences,maxlen=max_length, truncating=trunc_type)\n",
        "\n",
        "# testing_sequences = tokenizer.texts_to_sequences(test_sentences)\n",
        "# testing_padded = pad_sequences(testing_sequences,maxlen=max_length)\n",
        "\n",
        "# reverse_word_index = dict([(value, key) for (key, value) in word_index.items()])\n",
        "\n",
        "# def decode_review(text):\n",
        "#     return ' '.join([reverse_word_index.get(i, '?') for i in text])\n",
        "\n",
        "# print(decode_review(padded[1]))\n",
        "# print(train_sentences[1])\n",
        "\n",
        "# model = tf.keras.Sequential([\n",
        "#     tf.keras.layers.Embedding(vocab_size, embedding_dim, input_length=max_length),\n",
        "#     tf.keras.layers.Flatten(),\n",
        "#     tf.keras.layers.Dense(6, activation='relu'),\n",
        "#     tf.keras.layers.Dense(1, activation='sigmoid')\n",
        "# ])\n",
        "# model.compile(loss='binary_crossentropy',optimizer='adam',metrics=['accuracy'])\n",
        "# model.summary()\n"
      ],
      "execution_count": 0,
      "outputs": []
    },
    {
      "cell_type": "code",
      "metadata": {
        "colab_type": "code",
        "id": "Sq-u1sG-T5Yp",
        "colab": {}
      },
      "source": [
        "# reverse_word_index = dict([(value, key) for (key, value) in word_index.items()])\n",
        "\n",
        "# def decode_review(text):\n",
        "#     return ' '.join([reverse_word_index.get(i, '?') for i in text])\n",
        "\n",
        "# print(decode_review(padded[1]))\n",
        "# print(train_sentences[1])"
      ],
      "execution_count": 0,
      "outputs": []
    },
    {
      "cell_type": "code",
      "metadata": {
        "colab_type": "code",
        "id": "1EC6wEadT2iL",
        "colab": {}
      },
      "source": [
        "# model = tf.keras.Sequential([\n",
        "#     tf.keras.layers.Embedding(vocab_size, embedding_dim, input_length=max_length),\n",
        "#     tf.keras.layers.Flatten(),\n",
        "#     tf.keras.layers.Dense(6, activation='relu'),\n",
        "#     tf.keras.layers.Dense(1, activation='sigmoid')\n",
        "# ])\n",
        "# model.compile(loss='binary_crossentropy',optimizer='adam',metrics=['accuracy'])\n",
        "# model.summary()\n"
      ],
      "execution_count": 0,
      "outputs": []
    }
  ]
}